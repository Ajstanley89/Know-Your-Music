{
 "cells": [
  {
   "cell_type": "code",
   "execution_count": 58,
   "metadata": {},
   "outputs": [],
   "source": [
    "import csv\n",
    "import pandas as pd\n",
    "from sklearn.linear_model import LinearRegression\n",
    "from sklearn.metrics import mean_squared_error, r2_score\n",
    "import matplotlib.pyplot as plt"
   ]
  },
  {
   "cell_type": "code",
   "execution_count": 20,
   "metadata": {},
   "outputs": [],
   "source": [
    "hot_songs=pd.read_csv('hot_100_features.csv')"
   ]
  },
  {
   "cell_type": "code",
   "execution_count": 21,
   "metadata": {},
   "outputs": [
    {
     "data": {
      "text/html": [
       "<div>\n",
       "<style scoped>\n",
       "    .dataframe tbody tr th:only-of-type {\n",
       "        vertical-align: middle;\n",
       "    }\n",
       "\n",
       "    .dataframe tbody tr th {\n",
       "        vertical-align: top;\n",
       "    }\n",
       "\n",
       "    .dataframe thead th {\n",
       "        text-align: right;\n",
       "    }\n",
       "</style>\n",
       "<table border=\"1\" class=\"dataframe\">\n",
       "  <thead>\n",
       "    <tr style=\"text-align: right;\">\n",
       "      <th></th>\n",
       "      <th>acousticness</th>\n",
       "      <th>danceability</th>\n",
       "      <th>duration_ms</th>\n",
       "      <th>energy</th>\n",
       "      <th>instrumentalness</th>\n",
       "      <th>key</th>\n",
       "      <th>liveness</th>\n",
       "      <th>loudness</th>\n",
       "      <th>mode</th>\n",
       "      <th>speechiness</th>\n",
       "      <th>tempo</th>\n",
       "      <th>time_signature</th>\n",
       "      <th>valence</th>\n",
       "      <th>Popularity</th>\n",
       "    </tr>\n",
       "  </thead>\n",
       "  <tbody>\n",
       "    <tr>\n",
       "      <th>0</th>\n",
       "      <td>0.5680</td>\n",
       "      <td>0.851</td>\n",
       "      <td>235545</td>\n",
       "      <td>0.541</td>\n",
       "      <td>0.00000</td>\n",
       "      <td>0</td>\n",
       "      <td>0.130</td>\n",
       "      <td>-6.825</td>\n",
       "      <td>1</td>\n",
       "      <td>0.0505</td>\n",
       "      <td>124.959</td>\n",
       "      <td>4</td>\n",
       "      <td>0.448</td>\n",
       "      <td>94</td>\n",
       "    </tr>\n",
       "    <tr>\n",
       "      <th>1</th>\n",
       "      <td>0.3490</td>\n",
       "      <td>0.511</td>\n",
       "      <td>239836</td>\n",
       "      <td>0.566</td>\n",
       "      <td>0.00000</td>\n",
       "      <td>6</td>\n",
       "      <td>0.340</td>\n",
       "      <td>-7.230</td>\n",
       "      <td>0</td>\n",
       "      <td>0.2000</td>\n",
       "      <td>83.903</td>\n",
       "      <td>4</td>\n",
       "      <td>0.218</td>\n",
       "      <td>97</td>\n",
       "    </tr>\n",
       "    <tr>\n",
       "      <th>2</th>\n",
       "      <td>0.3540</td>\n",
       "      <td>0.680</td>\n",
       "      <td>231267</td>\n",
       "      <td>0.563</td>\n",
       "      <td>0.00000</td>\n",
       "      <td>10</td>\n",
       "      <td>0.136</td>\n",
       "      <td>-5.843</td>\n",
       "      <td>1</td>\n",
       "      <td>0.0454</td>\n",
       "      <td>145.028</td>\n",
       "      <td>4</td>\n",
       "      <td>0.374</td>\n",
       "      <td>95</td>\n",
       "    </tr>\n",
       "    <tr>\n",
       "      <th>3</th>\n",
       "      <td>0.0589</td>\n",
       "      <td>0.835</td>\n",
       "      <td>217925</td>\n",
       "      <td>0.626</td>\n",
       "      <td>0.00006</td>\n",
       "      <td>1</td>\n",
       "      <td>0.396</td>\n",
       "      <td>-5.833</td>\n",
       "      <td>1</td>\n",
       "      <td>0.1250</td>\n",
       "      <td>91.030</td>\n",
       "      <td>4</td>\n",
       "      <td>0.350</td>\n",
       "      <td>100</td>\n",
       "    </tr>\n",
       "    <tr>\n",
       "      <th>4</th>\n",
       "      <td>0.0989</td>\n",
       "      <td>0.892</td>\n",
       "      <td>253580</td>\n",
       "      <td>0.651</td>\n",
       "      <td>0.00000</td>\n",
       "      <td>0</td>\n",
       "      <td>0.371</td>\n",
       "      <td>-8.645</td>\n",
       "      <td>0</td>\n",
       "      <td>0.3780</td>\n",
       "      <td>105.814</td>\n",
       "      <td>4</td>\n",
       "      <td>0.599</td>\n",
       "      <td>88</td>\n",
       "    </tr>\n",
       "  </tbody>\n",
       "</table>\n",
       "</div>"
      ],
      "text/plain": [
       "   acousticness  danceability  duration_ms  energy  instrumentalness  key  \\\n",
       "0        0.5680         0.851       235545   0.541           0.00000    0   \n",
       "1        0.3490         0.511       239836   0.566           0.00000    6   \n",
       "2        0.3540         0.680       231267   0.563           0.00000   10   \n",
       "3        0.0589         0.835       217925   0.626           0.00006    1   \n",
       "4        0.0989         0.892       253580   0.651           0.00000    0   \n",
       "\n",
       "   liveness  loudness  mode  speechiness    tempo  time_signature  valence  \\\n",
       "0     0.130    -6.825     1       0.0505  124.959               4    0.448   \n",
       "1     0.340    -7.230     0       0.2000   83.903               4    0.218   \n",
       "2     0.136    -5.843     1       0.0454  145.028               4    0.374   \n",
       "3     0.396    -5.833     1       0.1250   91.030               4    0.350   \n",
       "4     0.371    -8.645     0       0.3780  105.814               4    0.599   \n",
       "\n",
       "   Popularity  \n",
       "0          94  \n",
       "1          97  \n",
       "2          95  \n",
       "3         100  \n",
       "4          88  "
      ]
     },
     "execution_count": 21,
     "metadata": {},
     "output_type": "execute_result"
    }
   ],
   "source": [
    "hot_songs.head(5)"
   ]
  },
  {
   "cell_type": "code",
   "execution_count": 22,
   "metadata": {},
   "outputs": [],
   "source": [
    "x=hot_songs.drop('Popularity',axis=1)\n"
   ]
  },
  {
   "cell_type": "code",
   "execution_count": 23,
   "metadata": {},
   "outputs": [],
   "source": [
    "lm=LinearRegression()"
   ]
  },
  {
   "cell_type": "code",
   "execution_count": 24,
   "metadata": {},
   "outputs": [
    {
     "name": "stderr",
     "output_type": "stream",
     "text": [
      "/usr/local/lib/python3.7/site-packages/sklearn/linear_model/base.py:509: RuntimeWarning: internal gelsd driver lwork query error, required iwork dimension not returned. This is likely the result of LAPACK bug 0038, fixed in LAPACK 3.2.2 (released July 21, 2010). Falling back to 'gelss' driver.\n",
      "  linalg.lstsq(X, y)\n"
     ]
    },
    {
     "data": {
      "text/plain": [
       "LinearRegression(copy_X=True, fit_intercept=True, n_jobs=1, normalize=False)"
      ]
     },
     "execution_count": 24,
     "metadata": {},
     "output_type": "execute_result"
    }
   ],
   "source": [
    "lm.fit(x, hot_songs.Popularity)\n",
    "\n"
   ]
  },
  {
   "cell_type": "code",
   "execution_count": 25,
   "metadata": {},
   "outputs": [
    {
     "data": {
      "text/plain": [
       "LinearRegression(copy_X=True, fit_intercept=True, n_jobs=1, normalize=False)"
      ]
     },
     "execution_count": 25,
     "metadata": {},
     "output_type": "execute_result"
    }
   ],
   "source": [
    "LinearRegression(copy_X=True, fit_intercept=True, normalize=False)"
   ]
  },
  {
   "cell_type": "code",
   "execution_count": 26,
   "metadata": {},
   "outputs": [
    {
     "data": {
      "text/plain": [
       "13"
      ]
     },
     "execution_count": 26,
     "metadata": {},
     "output_type": "execute_result"
    }
   ],
   "source": [
    "len(lm.coef_)"
   ]
  },
  {
   "cell_type": "code",
   "execution_count": 27,
   "metadata": {},
   "outputs": [
    {
     "name": "stdout",
     "output_type": "stream",
     "text": [
      "73.18292689096178\n"
     ]
    }
   ],
   "source": [
    "print(lm.intercept_)"
   ]
  },
  {
   "cell_type": "code",
   "execution_count": 29,
   "metadata": {},
   "outputs": [],
   "source": [
    "#p"
   ]
  },
  {
   "cell_type": "code",
   "execution_count": 30,
   "metadata": {},
   "outputs": [
    {
     "name": "stdout",
     "output_type": "stream",
     "text": [
      "Index(['acousticness', 'danceability', 'duration_ms', 'energy',\n",
      "       'instrumentalness', 'key', 'liveness', 'loudness', 'mode',\n",
      "       'speechiness', 'tempo', 'time_signature', 'valence'],\n",
      "      dtype='object')\n"
     ]
    }
   ],
   "source": [
    "print(x.columns)"
   ]
  },
  {
   "cell_type": "code",
   "execution_count": 31,
   "metadata": {},
   "outputs": [
    {
     "name": "stdout",
     "output_type": "stream",
     "text": [
      "[-2.33862150e+00  1.90126550e+01  1.06817283e-05 -4.11572905e+00\n",
      "  4.02606931e+02 -2.67933563e-02  5.00068422e+00  8.89142522e-01\n",
      "  1.10797637e+00  2.58818920e+00 -6.07929206e-02  4.01541428e+00\n",
      " -9.34596870e+00]\n"
     ]
    }
   ],
   "source": [
    "print(lm.coef_)\n"
   ]
  },
  {
   "cell_type": "code",
   "execution_count": 49,
   "metadata": {},
   "outputs": [],
   "source": [
    "consolidate=dict(zip(x.columns,lm.coef_))\n"
   ]
  },
  {
   "cell_type": "code",
   "execution_count": 50,
   "metadata": {},
   "outputs": [
    {
     "data": {
      "text/plain": [
       "{'acousticness': -2.3386214987591907,\n",
       " 'danceability': 19.012655004882227,\n",
       " 'duration_ms': 1.0681728251512457e-05,\n",
       " 'energy': -4.1157290479602695,\n",
       " 'instrumentalness': 402.6069311256557,\n",
       " 'key': -0.026793356277624428,\n",
       " 'liveness': 5.000684223182221,\n",
       " 'loudness': 0.8891425218617325,\n",
       " 'mode': 1.1079763731403331,\n",
       " 'speechiness': 2.5881892025478748,\n",
       " 'tempo': -0.060792920625805165,\n",
       " 'time_signature': 4.015414279503415,\n",
       " 'valence': -9.345968703565218}"
      ]
     },
     "execution_count": 50,
     "metadata": {},
     "output_type": "execute_result"
    }
   ],
   "source": [
    "consolidate"
   ]
  },
  {
   "cell_type": "code",
   "execution_count": 56,
   "metadata": {},
   "outputs": [],
   "source": [
    "linearDf=pd.DataFrame()\n",
    "linearDf['Features']=consolidate.keys()\n",
    "linearDf['Coefficient']=consolidate.values()"
   ]
  },
  {
   "cell_type": "code",
   "execution_count": 71,
   "metadata": {},
   "outputs": [
    {
     "data": {
      "text/html": [
       "<div>\n",
       "<style scoped>\n",
       "    .dataframe tbody tr th:only-of-type {\n",
       "        vertical-align: middle;\n",
       "    }\n",
       "\n",
       "    .dataframe tbody tr th {\n",
       "        vertical-align: top;\n",
       "    }\n",
       "\n",
       "    .dataframe thead th {\n",
       "        text-align: right;\n",
       "    }\n",
       "</style>\n",
       "<table border=\"1\" class=\"dataframe\">\n",
       "  <thead>\n",
       "    <tr style=\"text-align: right;\">\n",
       "      <th></th>\n",
       "      <th>Features</th>\n",
       "      <th>Coefficient</th>\n",
       "    </tr>\n",
       "  </thead>\n",
       "  <tbody>\n",
       "    <tr>\n",
       "      <th>0</th>\n",
       "      <td>acousticness</td>\n",
       "      <td>-2.338621</td>\n",
       "    </tr>\n",
       "    <tr>\n",
       "      <th>1</th>\n",
       "      <td>danceability</td>\n",
       "      <td>19.012655</td>\n",
       "    </tr>\n",
       "    <tr>\n",
       "      <th>2</th>\n",
       "      <td>duration_ms</td>\n",
       "      <td>0.000011</td>\n",
       "    </tr>\n",
       "    <tr>\n",
       "      <th>3</th>\n",
       "      <td>energy</td>\n",
       "      <td>-4.115729</td>\n",
       "    </tr>\n",
       "    <tr>\n",
       "      <th>4</th>\n",
       "      <td>instrumentalness</td>\n",
       "      <td>402.606931</td>\n",
       "    </tr>\n",
       "    <tr>\n",
       "      <th>5</th>\n",
       "      <td>key</td>\n",
       "      <td>-0.026793</td>\n",
       "    </tr>\n",
       "    <tr>\n",
       "      <th>6</th>\n",
       "      <td>liveness</td>\n",
       "      <td>5.000684</td>\n",
       "    </tr>\n",
       "    <tr>\n",
       "      <th>7</th>\n",
       "      <td>loudness</td>\n",
       "      <td>0.889143</td>\n",
       "    </tr>\n",
       "    <tr>\n",
       "      <th>8</th>\n",
       "      <td>mode</td>\n",
       "      <td>1.107976</td>\n",
       "    </tr>\n",
       "    <tr>\n",
       "      <th>9</th>\n",
       "      <td>speechiness</td>\n",
       "      <td>2.588189</td>\n",
       "    </tr>\n",
       "  </tbody>\n",
       "</table>\n",
       "</div>"
      ],
      "text/plain": [
       "           Features  Coefficient\n",
       "0      acousticness    -2.338621\n",
       "1      danceability    19.012655\n",
       "2       duration_ms     0.000011\n",
       "3            energy    -4.115729\n",
       "4  instrumentalness   402.606931\n",
       "5               key    -0.026793\n",
       "6          liveness     5.000684\n",
       "7          loudness     0.889143\n",
       "8              mode     1.107976\n",
       "9       speechiness     2.588189"
      ]
     },
     "execution_count": 71,
     "metadata": {},
     "output_type": "execute_result"
    }
   ],
   "source": [
    "linearDf.head(10)"
   ]
  },
  {
   "cell_type": "code",
   "execution_count": 59,
   "metadata": {},
   "outputs": [
    {
     "data": {
      "text/plain": [
       "<matplotlib.collections.PathCollection at 0x118a12978>"
      ]
     },
     "execution_count": 59,
     "metadata": {},
     "output_type": "execute_result"
    },
    {
     "data": {
      "image/png": "[encoded data removed]",
      "text/plain": [
       "<Figure size 432x288 with 1 Axes>"
      ]
     },
     "metadata": {
      "needs_background": "light"
     },
     "output_type": "display_data"
    }
   ],
   "source": [
    "plt.scatter(hot_songs.energy,hot_songs.Popularity)"
   ]
  },
  {
   "cell_type": "code",
   "execution_count": 60,
   "metadata": {},
   "outputs": [
    {
     "data": {
      "text/plain": [
       "array([88.42218929, 86.86671246, 85.62880511, 94.15147247, 89.11789055,\n",
       "       90.62044314, 88.40574823, 90.60288688, 91.98633074, 87.54601999,\n",
       "       92.33725854, 86.79037795, 87.96395398, 85.03610643, 88.01943969,\n",
       "       93.84941639, 87.25245481, 89.20055049, 86.09493307, 85.87487924,\n",
       "       88.23744777, 88.54239903, 87.77765484, 87.2652175 , 91.60561129,\n",
       "       86.58713425, 83.68578647, 87.26885415, 89.05758965, 80.84363886,\n",
       "       87.03212386, 87.46871161, 92.02845539, 88.08096817, 84.01538103,\n",
       "       87.0991422 , 90.71583718, 89.36896655, 81.89373456, 88.05510078,\n",
       "       91.74754519, 72.79392239, 88.59730103, 84.33508902, 91.55845464,\n",
       "       85.79764047, 86.54965873, 81.28831576, 86.19894761, 84.25350164,\n",
       "       85.06892083, 77.38992852, 83.28508372, 85.02204315, 75.71024949,\n",
       "       89.57924257, 85.62880511, 87.19042773, 79.87875886, 85.64019005,\n",
       "       84.19594334, 91.90812412, 85.42730518, 86.21645702, 89.57917827,\n",
       "       89.0316331 , 84.54183753, 88.37491174, 83.76493467, 90.55249646,\n",
       "       86.87259683, 85.71178146, 86.24980259, 83.84943101, 81.85016154,\n",
       "       86.58713425, 85.8198028 , 85.40058186, 82.69057025, 84.44221094,\n",
       "       86.58989203, 77.41219117, 86.22173753, 89.6528484 , 78.20971046,\n",
       "       79.0091291 , 87.15285163, 89.50276623, 85.837507  , 85.21710774,\n",
       "       90.41780139, 85.77096747, 89.44881345, 85.27219726, 91.91449676,\n",
       "       85.4409198 , 85.66363535, 86.59282352, 88.8038479 , 88.89020976])"
      ]
     },
     "execution_count": 60,
     "metadata": {},
     "output_type": "execute_result"
    }
   ],
   "source": [
    "lm.predict(x)"
   ]
  },
  {
   "cell_type": "code",
   "execution_count": 61,
   "metadata": {},
   "outputs": [
    {
     "data": {
      "text/plain": [
       "<matplotlib.collections.PathCollection at 0x118a12cc0>"
      ]
     },
     "execution_count": 61,
     "metadata": {},
     "output_type": "execute_result"
    },
    {
     "data": {
      "image/png": "[encoded data removed]",
      "text/plain": [
       "<Figure size 432x288 with 1 Axes>"
      ]
     },
     "metadata": {
      "needs_background": "light"
     },
     "output_type": "display_data"
    }
   ],
   "source": [
    "plt.scatter(hot_songs.Popularity,lm.predict(x))"
   ]
  },
  {
   "cell_type": "code",
   "execution_count": 67,
   "metadata": {},
   "outputs": [],
   "source": [
    "hot_songs['Predicted Popularity']=lm.predict(x)"
   ]
  },
  {
   "cell_type": "code",
   "execution_count": 68,
   "metadata": {},
   "outputs": [
    {
     "data": {
      "text/html": [
       "<div>\n",
       "<style scoped>\n",
       "    .dataframe tbody tr th:only-of-type {\n",
       "        vertical-align: middle;\n",
       "    }\n",
       "\n",
       "    .dataframe tbody tr th {\n",
       "        vertical-align: top;\n",
       "    }\n",
       "\n",
       "    .dataframe thead th {\n",
       "        text-align: right;\n",
       "    }\n",
       "</style>\n",
       "<table border=\"1\" class=\"dataframe\">\n",
       "  <thead>\n",
       "    <tr style=\"text-align: right;\">\n",
       "      <th></th>\n",
       "      <th>acousticness</th>\n",
       "      <th>danceability</th>\n",
       "      <th>duration_ms</th>\n",
       "      <th>energy</th>\n",
       "      <th>instrumentalness</th>\n",
       "      <th>key</th>\n",
       "      <th>liveness</th>\n",
       "      <th>loudness</th>\n",
       "      <th>mode</th>\n",
       "      <th>speechiness</th>\n",
       "      <th>tempo</th>\n",
       "      <th>time_signature</th>\n",
       "      <th>valence</th>\n",
       "      <th>Popularity</th>\n",
       "      <th>Predicted Popularity</th>\n",
       "    </tr>\n",
       "  </thead>\n",
       "  <tbody>\n",
       "    <tr>\n",
       "      <th>0</th>\n",
       "      <td>0.5680</td>\n",
       "      <td>0.851</td>\n",
       "      <td>235545</td>\n",
       "      <td>0.541</td>\n",
       "      <td>0.00000</td>\n",
       "      <td>0</td>\n",
       "      <td>0.130</td>\n",
       "      <td>-6.825</td>\n",
       "      <td>1</td>\n",
       "      <td>0.0505</td>\n",
       "      <td>124.959</td>\n",
       "      <td>4</td>\n",
       "      <td>0.448</td>\n",
       "      <td>94</td>\n",
       "      <td>88.422189</td>\n",
       "    </tr>\n",
       "    <tr>\n",
       "      <th>1</th>\n",
       "      <td>0.3490</td>\n",
       "      <td>0.511</td>\n",
       "      <td>239836</td>\n",
       "      <td>0.566</td>\n",
       "      <td>0.00000</td>\n",
       "      <td>6</td>\n",
       "      <td>0.340</td>\n",
       "      <td>-7.230</td>\n",
       "      <td>0</td>\n",
       "      <td>0.2000</td>\n",
       "      <td>83.903</td>\n",
       "      <td>4</td>\n",
       "      <td>0.218</td>\n",
       "      <td>97</td>\n",
       "      <td>86.866712</td>\n",
       "    </tr>\n",
       "    <tr>\n",
       "      <th>2</th>\n",
       "      <td>0.3540</td>\n",
       "      <td>0.680</td>\n",
       "      <td>231267</td>\n",
       "      <td>0.563</td>\n",
       "      <td>0.00000</td>\n",
       "      <td>10</td>\n",
       "      <td>0.136</td>\n",
       "      <td>-5.843</td>\n",
       "      <td>1</td>\n",
       "      <td>0.0454</td>\n",
       "      <td>145.028</td>\n",
       "      <td>4</td>\n",
       "      <td>0.374</td>\n",
       "      <td>95</td>\n",
       "      <td>85.628805</td>\n",
       "    </tr>\n",
       "    <tr>\n",
       "      <th>3</th>\n",
       "      <td>0.0589</td>\n",
       "      <td>0.835</td>\n",
       "      <td>217925</td>\n",
       "      <td>0.626</td>\n",
       "      <td>0.00006</td>\n",
       "      <td>1</td>\n",
       "      <td>0.396</td>\n",
       "      <td>-5.833</td>\n",
       "      <td>1</td>\n",
       "      <td>0.1250</td>\n",
       "      <td>91.030</td>\n",
       "      <td>4</td>\n",
       "      <td>0.350</td>\n",
       "      <td>100</td>\n",
       "      <td>94.151472</td>\n",
       "    </tr>\n",
       "    <tr>\n",
       "      <th>4</th>\n",
       "      <td>0.0989</td>\n",
       "      <td>0.892</td>\n",
       "      <td>253580</td>\n",
       "      <td>0.651</td>\n",
       "      <td>0.00000</td>\n",
       "      <td>0</td>\n",
       "      <td>0.371</td>\n",
       "      <td>-8.645</td>\n",
       "      <td>0</td>\n",
       "      <td>0.3780</td>\n",
       "      <td>105.814</td>\n",
       "      <td>4</td>\n",
       "      <td>0.599</td>\n",
       "      <td>88</td>\n",
       "      <td>89.117891</td>\n",
       "    </tr>\n",
       "  </tbody>\n",
       "</table>\n",
       "</div>"
      ],
      "text/plain": [
       "   acousticness  danceability  duration_ms  energy  instrumentalness  key  \\\n",
       "0        0.5680         0.851       235545   0.541           0.00000    0   \n",
       "1        0.3490         0.511       239836   0.566           0.00000    6   \n",
       "2        0.3540         0.680       231267   0.563           0.00000   10   \n",
       "3        0.0589         0.835       217925   0.626           0.00006    1   \n",
       "4        0.0989         0.892       253580   0.651           0.00000    0   \n",
       "\n",
       "   liveness  loudness  mode  speechiness    tempo  time_signature  valence  \\\n",
       "0     0.130    -6.825     1       0.0505  124.959               4    0.448   \n",
       "1     0.340    -7.230     0       0.2000   83.903               4    0.218   \n",
       "2     0.136    -5.843     1       0.0454  145.028               4    0.374   \n",
       "3     0.396    -5.833     1       0.1250   91.030               4    0.350   \n",
       "4     0.371    -8.645     0       0.3780  105.814               4    0.599   \n",
       "\n",
       "   Popularity  Predicted Popularity  \n",
       "0          94             88.422189  \n",
       "1          97             86.866712  \n",
       "2          95             85.628805  \n",
       "3         100             94.151472  \n",
       "4          88             89.117891  "
      ]
     },
     "execution_count": 68,
     "metadata": {},
     "output_type": "execute_result"
    }
   ],
   "source": [
    "hot_songs.head(5)"
   ]
  },
  {
   "cell_type": "markdown",
   "metadata": {},
   "source": [
    " "
   ]
  },
  {
   "cell_type": "code",
   "execution_count": 69,
   "metadata": {},
   "outputs": [
    {
     "data": {
      "text/plain": [
       "{'copy_X': True, 'fit_intercept': True, 'n_jobs': 1, 'normalize': False}"
      ]
     },
     "execution_count": 69,
     "metadata": {},
     "output_type": "execute_result"
    }
   ],
   "source": [
    "lm.get_params()"
   ]
  },
  {
   "cell_type": "code",
   "execution_count": 70,
   "metadata": {},
   "outputs": [
    {
     "data": {
      "text/plain": [
       "array([4.06903131e+05, 3.13460694e+02, 3.63782556e+01, 2.10835170e+01,\n",
       "       4.52112328e+00, 2.05209827e+00, 1.78250645e+00, 1.45803220e+00,\n",
       "       1.30149558e+00, 9.49326685e-01, 8.48193143e-01, 6.89132794e-01,\n",
       "       1.36924725e-02])"
      ]
     },
     "execution_count": 70,
     "metadata": {},
     "output_type": "execute_result"
    }
   ],
   "source": [
    "lm.singular_"
   ]
  },
  {
   "cell_type": "code",
   "execution_count": null,
   "metadata": {},
   "outputs": [],
   "source": []
  }
 ],
 "metadata": {
  "kernelspec": {
   "display_name": "Python 3",
   "language": "python",
   "name": "python3"
  },
  "language_info": {
   "codemirror_mode": {
    "name": "ipython",
    "version": 3
   },
   "file_extension": ".py",
   "mimetype": "text/x-python",
   "name": "python",
   "nbconvert_exporter": "python",
   "pygments_lexer": "ipython3",
   "version": "3.7.0"
  }
 },
 "nbformat": 4,
 "nbformat_minor": 2
}
