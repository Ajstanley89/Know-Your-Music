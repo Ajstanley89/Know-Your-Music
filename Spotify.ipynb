{
 "cells": [
  {
   "cell_type": "code",
   "execution_count": 72,
   "metadata": {},
   "outputs": [],
   "source": [
    "import os\n",
    "from pprint import pprint\n",
    "import pandas as pd\n",
    "import numpy as np\n",
    "import spotipy\n",
    "from spotipy.oauth2 import SpotifyClientCredentials\n",
    "import spotipy.util as util\n",
    "\n",
    "import billboard\n"
   ]
  },
  {
   "cell_type": "code",
   "execution_count": 73,
   "metadata": {},
   "outputs": [],
   "source": [
    "os.environ['SPOTIPY_CLIENT_ID']='3d9b366e943e4dc29d4780f1d4e4743b'\n",
    "os.environ['SPOTIPY_CLIENT_SECRET']='691ba4297e4f44629ebacd05c8153f58'\n",
    "os.environ['SPOTIPY_REDIRECT_URI']='https://www.berkeley.edu'"
   ]
  },
  {
   "cell_type": "code",
   "execution_count": 74,
   "metadata": {},
   "outputs": [],
   "source": [
    "\n",
    "\n",
    "username='jenipreethi@gmail.com'\n",
    "client_credentials_manager = SpotifyClientCredentials() \n",
    "sp = spotipy.Spotify(client_credentials_manager=client_credentials_manager)\n",
    "scope = 'user-library-read playlist-read-private'\n",
    "token = util.prompt_for_user_token(username, scope)\n",
    "if token:\n",
    "    sp = spotipy.Spotify(auth=token)\n",
    "else:\n",
    "    print(\"Can't get token for\", username)"
   ]
  },
  {
   "cell_type": "code",
   "execution_count": 75,
   "metadata": {},
   "outputs": [
    {
     "name": "stdout",
     "output_type": "stream",
     "text": [
      "{'collaborative': False,\n",
      " 'external_urls': {'spotify': 'https://open.spotify.com/playlist/37i9dQZEVXbLRQDuF5jeBp'},\n",
      " 'href': 'https://api.spotify.com/v1/playlists/37i9dQZEVXbLRQDuF5jeBp',\n",
      " 'id': '37i9dQZEVXbLRQDuF5jeBp',\n",
      " 'images': [{'height': None,\n",
      "             'url': 'https://charts-images.scdn.co/REGIONAL_US_DEFAULT.jpg',\n",
      "             'width': None}],\n",
      " 'name': 'United States Top 50',\n",
      " 'owner': {'display_name': None,\n",
      "           'external_urls': {'spotify': 'https://open.spotify.com/user/spotifycharts'},\n",
      "           'href': 'https://api.spotify.com/v1/users/spotifycharts',\n",
      "           'id': 'spotifycharts',\n",
      "           'type': 'user',\n",
      "           'uri': 'spotify:user:spotifycharts'},\n",
      " 'primary_color': None,\n",
      " 'public': False,\n",
      " 'snapshot_id': 'NTkxNjI0MDc5LDAwMDAwMDAwMDAwMDAwMDAwMDAwMDAwMDAwMDAwMDAwMDAwMDY1NmU=',\n",
      " 'tracks': {'href': 'https://api.spotify.com/v1/playlists/37i9dQZEVXbLRQDuF5jeBp/tracks',\n",
      "            'total': 50},\n",
      " 'type': 'playlist',\n",
      " 'uri': 'spotify:user:spotifycharts:playlist:37i9dQZEVXbLRQDuF5jeBp'}\n"
     ]
    }
   ],
   "source": [
    "pprint(sp.current_user_playlists()['items'][0])\n"
   ]
  },
  {
   "cell_type": "code",
   "execution_count": 76,
   "metadata": {},
   "outputs": [
    {
     "data": {
      "text/plain": [
       "[{'danceability': 0.444,\n",
       "  'energy': 0.819,\n",
       "  'key': 10,\n",
       "  'loudness': -4.078,\n",
       "  'mode': 0,\n",
       "  'speechiness': 0.341,\n",
       "  'acousticness': 0.106,\n",
       "  'instrumentalness': 0,\n",
       "  'liveness': 0.107,\n",
       "  'valence': 0.747,\n",
       "  'tempo': 82.695,\n",
       "  'type': 'audio_features',\n",
       "  'id': '3QGsuHI8jO1Rx4JWLUh9jd',\n",
       "  'uri': 'spotify:track:3QGsuHI8jO1Rx4JWLUh9jd',\n",
       "  'track_href': 'https://api.spotify.com/v1/tracks/3QGsuHI8jO1Rx4JWLUh9jd',\n",
       "  'analysis_url': 'https://api.spotify.com/v1/audio-analysis/3QGsuHI8jO1Rx4JWLUh9jd',\n",
       "  'duration_ms': 187973,\n",
       "  'time_signature': 4}]"
      ]
     },
     "execution_count": 76,
     "metadata": {},
     "output_type": "execute_result"
    }
   ],
   "source": [
    "sp.audio_features(tracks='3QGsuHI8jO1Rx4JWLUh9jd')\n"
   ]
  },
  {
   "cell_type": "code",
   "execution_count": 77,
   "metadata": {},
   "outputs": [],
   "source": [
    "def show_tracks(results):\n",
    "    trackid=[]\n",
    "    for i, item in enumerate(tracks['items']):\n",
    "        track = item['track']\n",
    "        trackid.append(track['id'])\n",
    "    return trackid"
   ]
  },
  {
   "cell_type": "code",
   "execution_count": 78,
   "metadata": {},
   "outputs": [
    {
     "name": "stdout",
     "output_type": "stream",
     "text": [
      "United States Top 50\n",
      "  total tracks 50\n",
      "[0.855, 0.585, 0.902, 0.743, 0.879, 0.578, 0.784, 0.901, 0.603, 0.834, 0.752, 0.624, 0.669, 0.841, 0.769, 0.511, 0.738, 0.807, 0.931, 0.788, 0.687, 0.929, 0.752, 0.85, 0.912, 0.835, 0.74, 0.876, 0.9, 0.552, 0.641, 0.921, 0.678, 0.865, 0.8, 0.754, 0.442, 0.68, 0.699, 0.657, 0.884, 0.56, 0.746, 0.964, 0.651, 0.816, 0.715, 0.892, 0.745, 0.872]\n"
     ]
    }
   ],
   "source": [
    "df=pd.DataFrame()\n",
    "track_id=[]\n",
    "danceability=[]\n",
    "energy=[]\n",
    "key=[]\n",
    "loudness=[]\n",
    "speechiness=[]\n",
    "acousticness=[]\n",
    "liveness=[]\n",
    "\n",
    "\n",
    "playlists = sp.user_playlists('jenipreethi')\n",
    "playlist=playlists['items'][0]\n",
    "print(playlist['name'])\n",
    "print('  total tracks', playlist['tracks']['total'])\n",
    "results = sp.user_playlist(username, playlist['id'], fields=\"tracks,next\")\n",
    "tracks = results['tracks']\n",
    "track_id=show_tracks(tracks)\n",
    "\n",
    "for track in track_id:\n",
    "    feat=sp.audio_features(tracks=track)[0]\n",
    "    danceability.append(feat['danceability'])\n",
    "    energy.append(feat['energy'])\n",
    "    key.append(feat['key'])\n",
    "    loudness.append(feat['loudness'])\n",
    "    speechiness.append(feat['speechiness'])\n",
    "    acousticness.append(feat['acousticness'])\n",
    "    liveness.append(feat['liveness'])\n",
    "    \n",
    "print(danceability)\n",
    "df['trackid']=track_id\n",
    "df['danceability']=danceability\n",
    "df['energy']=energy\n",
    "df['key']=key\n",
    "df['loudness']=loudness\n",
    "df['acousticness']=acousticness\n",
    "df['liveness']=liveness"
   ]
  },
  {
   "cell_type": "code",
   "execution_count": null,
   "metadata": {},
   "outputs": [],
   "source": []
  },
  {
   "cell_type": "code",
   "execution_count": null,
   "metadata": {},
   "outputs": [],
   "source": []
  },
  {
   "cell_type": "code",
   "execution_count": null,
   "metadata": {},
   "outputs": [],
   "source": []
  },
  {
   "cell_type": "code",
   "execution_count": null,
   "metadata": {},
   "outputs": [],
   "source": []
  },
  {
   "cell_type": "code",
   "execution_count": 79,
   "metadata": {},
   "outputs": [],
   "source": [
    "chart = billboard.ChartData('hot-100')"
   ]
  },
  {
   "cell_type": "code",
   "execution_count": 80,
   "metadata": {},
   "outputs": [
    {
     "name": "stdout",
     "output_type": "stream",
     "text": [
      "billboard.ChartData('hot-100', date='2018-09-29')\n"
     ]
    }
   ],
   "source": [
    "pprint(chart)"
   ]
  },
  {
   "cell_type": "code",
   "execution_count": 81,
   "metadata": {},
   "outputs": [
    {
     "name": "stdout",
     "output_type": "stream",
     "text": [
      "['Maroon 5',\n",
      " 'Drake',\n",
      " 'Eminem',\n",
      " 'Juice WRLD',\n",
      " 'Post Malone',\n",
      " 'Cardi B',\n",
      " 'Kanye West',\n",
      " '6ix9ine',\n",
      " 'Travis Scott',\n",
      " '5 Seconds Of Summer',\n",
      " 'Khalid',\n",
      " 'Tyga',\n",
      " 'Eminem',\n",
      " 'Imagine Dragons',\n",
      " 'DJ Khaled',\n",
      " 'Ariana Grande',\n",
      " 'Selena Gomez',\n",
      " 'Lil Baby',\n",
      " 'Ella Mai',\n",
      " 'Machine Gun Kelly',\n",
      " 'Ed Sheeran',\n",
      " 'YG',\n",
      " 'Bebe Rexha',\n",
      " 'Taylor Swift',\n",
      " 'Lil Baby',\n",
      " 'Benny Blanco',\n",
      " 'Gucci Mane X Bruno Mars X Kodak Black',\n",
      " 'Marshmello',\n",
      " 'Post Malone',\n",
      " 'XXXTENTACION',\n",
      " 'Lauv',\n",
      " 'Zedd',\n",
      " 'Lil Uzi Vert',\n",
      " 'Dan + Shay',\n",
      " 'Florida Georgia Line',\n",
      " 'Sheck Wes',\n",
      " 'lovelytheband',\n",
      " 'Bazzi',\n",
      " 'Lil Peep',\n",
      " 'Old Dominion',\n",
      " 'Bryce Vine',\n",
      " 'Luke Combs',\n",
      " 'Luke Bryan',\n",
      " 'Tiesto',\n",
      " 'Cardi B',\n",
      " 'Russell Dickerson',\n",
      " 'Weezer',\n",
      " 'Panic! At The Disco',\n",
      " 'Nicki Minaj',\n",
      " 'Dylan Scott',\n",
      " 'Queen Naija',\n",
      " 'Kane Brown',\n",
      " \"Lil' Duval\",\n",
      " 'Lauren Daigle',\n",
      " 'Cole Swindell',\n",
      " 'Mac Miller',\n",
      " 'Labrinth',\n",
      " 'Charlie Puth',\n",
      " 'Yella Beezy',\n",
      " 'Quavo',\n",
      " 'Thomas Rhett',\n",
      " 'Jason Aldean',\n",
      " 'NF',\n",
      " 'Mitchell Tenpenny',\n",
      " 'Kygo',\n",
      " '6LACK',\n",
      " 'Calvin Harris',\n",
      " 'Brett Young',\n",
      " 'Daniel Caesar',\n",
      " 'Meek Mill',\n",
      " 'The Carters',\n",
      " 'Chris Janson',\n",
      " '6ix9ine',\n",
      " 'The Chainsmokers',\n",
      " 'Eric Church',\n",
      " 'Carrie Underwood',\n",
      " 'Clean Bandit',\n",
      " 'Chris Young',\n",
      " 'Eminem',\n",
      " 'Flipp Dinero',\n",
      " 'Jimmie Allen',\n",
      " 'Wiz Khalifa',\n",
      " 'Lil Mosey']\n"
     ]
    }
   ],
   "source": [
    "artist=[]\n",
    "\n",
    "for song in chart:\n",
    "    artist.append(song.artist)\n",
    "\n",
    "artistname=[]\n",
    "for art in artist:\n",
    "    if('Featuring' in art):\n",
    "        art=art.split('Featuring')[0]\n",
    "    if(',' in art):\n",
    "        art=art.split(',')[0]\n",
    "    if('&' in art):\n",
    "        art=art.split('&')[0]\n",
    "       \n",
    "    if(art not in artistname):\n",
    "        artistname.append(art.strip()) \n",
    "pprint(artistname)"
   ]
  },
  {
   "cell_type": "code",
   "execution_count": 82,
   "metadata": {},
   "outputs": [
    {
     "name": "stdout",
     "output_type": "stream",
     "text": [
      "Skipping\n"
     ]
    }
   ],
   "source": [
    "artistid=[]\n",
    "artistidname={}\n",
    "for name in artistname[:40]:\n",
    "    try:\n",
    "        artid=sp.search(q=name)['tracks']['items'][0]['album']['artists'][0]['id']\n",
    "        artistid.append(artid)\n",
    "        artistidname[artid]=name\n",
    "        \n",
    "    except Exception:\n",
    "        print('Skipping')"
   ]
  },
  {
   "cell_type": "code",
   "execution_count": 83,
   "metadata": {},
   "outputs": [
    {
     "data": {
      "text/plain": [
       "['04gDigrS5kc9YWfZHwBETP',\n",
       " '3TVXtAsR1Inumwj472S9r4',\n",
       " '7dGJo4pcD2V6oG8kP0tJRR',\n",
       " '4MCBfE4596Uoi2O4DtmEMz',\n",
       " '246dkjvS1zLTtiykXe5h60',\n",
       " '04gDigrS5kc9YWfZHwBETP',\n",
       " '5K4W6rqBFWDnAN6FQUkS6x',\n",
       " '7gZfnEnfiaHzxARJ2LeXrf',\n",
       " '0Y5tJX1MQlPlqiwlOH1tJY',\n",
       " '5Rl15oVamLq7FbSb0NNBNy',\n",
       " '5CiGnKThu5ctn9pBxv7DGa',\n",
       " '5LHRHt1k9lMyONurDHEdrp',\n",
       " '7dGJo4pcD2V6oG8kP0tJRR',\n",
       " '53XhwfbYqKCa1cC15pYq2q',\n",
       " '0QHgL1lAIqAw0HtD7YldmP',\n",
       " '66CXWjxzNUsdJxJ2JdwvnR',\n",
       " '0C8ZW7ezQVs4URX5aX7Kqx',\n",
       " '5f7VJjfbwm532GiveGC0ZK',\n",
       " '7HkdQ0gt53LP4zmHsL0nap',\n",
       " '6TIYQ3jFPwQSRmorSezPxX',\n",
       " '7dGJo4pcD2V6oG8kP0tJRR',\n",
       " '0A0FS04o6zMoto8OKPsDwY',\n",
       " '64M6ah0SkkRsnPGtGiRAbb',\n",
       " '06HL4z0CvFAxyc27GXpf02',\n",
       " '5f7VJjfbwm532GiveGC0ZK',\n",
       " '5CiGnKThu5ctn9pBxv7DGa',\n",
       " '64KEffDW9EtZ1y2vBYgq8T',\n",
       " '246dkjvS1zLTtiykXe5h60',\n",
       " '15UsOTVnJzReFVN1VCnxy4',\n",
       " '5JZ7CnR6gTvEMKX4g70Amv',\n",
       " '2qxJFvFYMEDqd7ui6kSAcq',\n",
       " '4MCBfE4596Uoi2O4DtmEMz',\n",
       " '7z5WFjZAIYejWy0NI5lv4T',\n",
       " '64M6ah0SkkRsnPGtGiRAbb',\n",
       " '2RDOrhPqAM4jzTRCEb19qX',\n",
       " '4KJ6jujcNPzOyhdNoiNftp',\n",
       " '4GvEc3ANtPPjt1ZJllr5Zl',\n",
       " '2kCcBybjl3SAtIcwdWpUe3',\n",
       " '6y8XlgIV8BLlIg1tT1R10i']"
      ]
     },
     "execution_count": 83,
     "metadata": {},
     "output_type": "execute_result"
    }
   ],
   "source": [
    "artistid"
   ]
  },
  {
   "cell_type": "code",
   "execution_count": 84,
   "metadata": {},
   "outputs": [
    {
     "name": "stdout",
     "output_type": "stream",
     "text": [
      "ArtistName: Cardi B  Name: Girls Like You (feat. Cardi B)|id: 6V1bu6o1Yo5ZXnsCJU8Ovk|Popularity: 79\n",
      "ArtistName: Cardi B  Name: What Lovers Do (feat. SZA)|id: 2j5hsQvApottzvTn4pFJWF|Popularity: 78\n",
      "ArtistName: Cardi B  Name: She Will Be Loved - Radio Mix|id: 4llK75pXNWZz6KAho2Gp16|Popularity: 81\n",
      "ArtistName: Cardi B  Name: Sugar|id: 2iuZJX9X9P0GKaE93xcPjk|Popularity: 78\n",
      "ArtistName: Cardi B  Name: Maps|id: 4gbVRS8gloEluzf0GzDOFc|Popularity: 78\n",
      "ArtistName: Cardi B  Name: This Love|id: 6ECp64rv50XVz93WvxXMGF|Popularity: 78\n",
      "ArtistName: Cardi B  Name: Don't Wanna Know (feat. Kendrick Lamar)|id: 1nueTG77MzNkJTKQ0ZdGzT|Popularity: 73\n",
      "ArtistName: Cardi B  Name: Payphone|id: 1LmN9SSHISbtp9LoaR5ZVJ|Popularity: 71\n",
      "ArtistName: Cardi B  Name: Girls Like You|id: 6OEHjJJvdkk1Ln0p0AZdyz|Popularity: 72\n",
      "ArtistName: Cardi B  Name: Wait|id: 6AvfZXpbb6r35DfF7gHPRq|Popularity: 75\n",
      "ArtistName: Drake  Name: In My Feelings|id: 2G7V7zsVDxg1yRsu7Ew9RJ|Popularity: 100\n",
      "ArtistName: Drake  Name: Nonstop|id: 0TlLq3lA83rQOYtrqBqSct|Popularity: 94\n",
      "ArtistName: Drake  Name: God's Plan|id: 6DCZcSspjsKoFjzjrWoCdn|Popularity: 92\n",
      "ArtistName: Drake  Name: Yes Indeed|id: 6vN77lE9LK6HP2DewaN6HZ|Popularity: 90\n",
      "ArtistName: Drake  Name: Nice For What|id: 3CA9pLiwRIGtUBiMjbZmRw|Popularity: 90\n",
      "ArtistName: Drake  Name: Look Alive (feat. Drake)|id: 4qKcDkK6siZ7Jp1Jb4m0aL|Popularity: 89\n",
      "ArtistName: Drake  Name: Don’t Matter To Me (with Michael Jackson)|id: 6G8kHiVZ1jW7vHMPVRNZU0|Popularity: 89\n",
      "ArtistName: Drake  Name: Mob Ties|id: 7rC5Pl8rQSX4myONQHYPBK|Popularity: 86\n",
      "ArtistName: Drake  Name: I'm Upset|id: 3qN5qMTKyEEmiTZD38BNTT|Popularity: 86\n",
      "ArtistName: Drake  Name: One Dance|id: 1zi7xx7UVEFkmKfv06H8x0|Popularity: 84\n",
      "ArtistName: Ed Sheeran  Name: Lucky You (feat. Joyner Lucas)|id: 60SdxE8apGAxMiRrpbmLY0|Popularity: 97\n",
      "ArtistName: Ed Sheeran  Name: The Ringer|id: 2jt2WxXMCD4zjACthkJQVE|Popularity: 93\n",
      "ArtistName: Ed Sheeran  Name: Fall|id: 58QhkbaAkLFnn7JwAnAato|Popularity: 91\n",
      "ArtistName: Ed Sheeran  Name: Not Alike (feat. Royce Da 5'9)|id: 28FGV3ORH14MYORd7s5dlU|Popularity: 90\n",
      "ArtistName: Ed Sheeran  Name: Greatest|id: 2XTquzYQAdT1Hk78bOUwsv|Popularity: 89\n",
      "ArtistName: Ed Sheeran  Name: Kamikaze|id: 2gsNpSn7VvvJuSrIDfRoYy|Popularity: 89\n",
      "ArtistName: Ed Sheeran  Name: Killshot|id: 1jo3TwNGCXfNdB5uba3ZVv|Popularity: 87\n",
      "ArtistName: Ed Sheeran  Name: Normal|id: 0evt4UZbdhnHtcAnxkm6A1|Popularity: 87\n",
      "ArtistName: Ed Sheeran  Name: Stepping Stone|id: 60Z57Wdrn0pEVpHI7d7GAX|Popularity: 87\n",
      "ArtistName: Ed Sheeran  Name: Venom - Music From The Motion Picture|id: 2SL6oP2YAEQbqsrkOzRGO4|Popularity: 86\n",
      "ArtistName: Lil Uzi Vert  Name: Lucid Dreams|id: 0s3nnoMeVWz3989MkNQiRf|Popularity: 97\n",
      "ArtistName: Lil Uzi Vert  Name: All Girls Are The Same|id: 0XySogm94T51XF5F2jumXm|Popularity: 89\n",
      "ArtistName: Lil Uzi Vert  Name: Lean Wit Me|id: 29tc0GbW0pTSBZSCZF3NWk|Popularity: 89\n",
      "ArtistName: Lil Uzi Vert  Name: Legends|id: 1Knctxx9vGZxpZfF66BIEa|Popularity: 85\n",
      "ArtistName: Lil Uzi Vert  Name: Wasted (feat. Lil Uzi Vert)|id: 3obgSF06ki98lYNLNq5vCB|Popularity: 80\n",
      "ArtistName: Lil Uzi Vert  Name: Black & White|id: 1R0Ig5KYrSGWvIoPzY4T3l|Popularity: 81\n",
      "ArtistName: Lil Uzi Vert  Name: Rich And Blind|id: 6QNFQJKlZUKr0xlGZ74CZJ|Popularity: 79\n",
      "ArtistName: Lil Uzi Vert  Name: Candles|id: 5EuKpn4RsDC1UFVUT0G269|Popularity: 79\n",
      "ArtistName: Lil Uzi Vert  Name: Scared Of Love|id: 2yN3r3qywFipxJlUdmOO8M|Popularity: 78\n",
      "ArtistName: Lil Uzi Vert  Name: Hurt Me|id: 6feFJnZ7UZwDzqrllDfRkS|Popularity: 78\n",
      "ArtistName: Post Malone  Name: Better Now|id: 7dt6x5M1jzdTEt8oCbisTK|Popularity: 95\n",
      "ArtistName: Post Malone  Name: rockstar (feat. 21 Savage)|id: 0e7ipj03S05BNilyu5bRzt|Popularity: 92\n",
      "ArtistName: Post Malone  Name: Psycho (feat. Ty Dolla $ign)|id: 3swc6WTsr7rl9DqQKQA55C|Popularity: 91\n",
      "ArtistName: Post Malone  Name: I Fall Apart|id: 75ZvA4QfFiZvzhj2xkaWAh|Popularity: 88\n",
      "ArtistName: Post Malone  Name: Congratulations|id: 3a1lNhkSLSkpJE4MSHpDu9|Popularity: 86\n",
      "ArtistName: Post Malone  Name: Ball For Me (feat. Nicki Minaj)|id: 6IaieqiCVvsNvEt6Y7yOFa|Popularity: 86\n",
      "ArtistName: Post Malone  Name: Candy Paint|id: 32lItqlMi4LBhb4k0BaSaC|Popularity: 85\n",
      "ArtistName: Post Malone  Name: Stay|id: 4H7WNRErSbONkM06blBoGc|Popularity: 83\n",
      "ArtistName: Post Malone  Name: Paranoid|id: 3fpVWegR6YOS1Yk5HSMYIq|Popularity: 83\n",
      "ArtistName: Post Malone  Name: Rich & Sad|id: 2VdT56BGpdqNHUgOe1j5vc|Popularity: 82\n",
      "ArtistName: Kanye West  Name: I Love It (& Lil Pump)|id: 4S8d14HvHb70ImctNgVzQQ|Popularity: 98\n",
      "ArtistName: Kanye West  Name: All Mine|id: 3qnoOm4fwZPBS116f5hpgF|Popularity: 85\n",
      "ArtistName: Kanye West  Name: Ni**as In Paris|id: 2KpCpk6HjXXLb7nnXoXA5O|Popularity: 81\n",
      "ArtistName: Kanye West  Name: FourFiveSeconds|id: 78TTtXnFQPzwqlbtbwqN0y|Popularity: 81\n",
      "ArtistName: Kanye West  Name: Yikes|id: 2r4JRwcbIeuAzWjH4YXlLs|Popularity: 81\n",
      "ArtistName: Kanye West  Name: Gold Digger|id: 1PS1QMdUqOal0ai3Gt7sDQ|Popularity: 80\n",
      "ArtistName: Kanye West  Name: POWER|id: 2gZUPNdnz5Y45eiGxpHGSc|Popularity: 79\n",
      "ArtistName: Kanye West  Name: Ghost Town|id: 6Bg7MznA9X0dIhlAsLyBYj|Popularity: 78\n",
      "ArtistName: Kanye West  Name: Stronger|id: 6C7RJEIUDqKkJRZVWdkfkH|Popularity: 76\n",
      "ArtistName: Kanye West  Name: Violent Crimes|id: 2VYb3Fb5iK5Y8HGZ8oEEkp|Popularity: 77\n",
      "ArtistName: 6ix9ine  Name: FEFE (feat. Nicki Minaj & Murda Beatz)|id: 2E124GmJRnBJuXbTb4cPUB|Popularity: 97\n",
      "ArtistName: 6ix9ine  Name: BEBE|id: 7ATATJztoWLcqDAcVVof0C|Popularity: 93\n",
      "ArtistName: 6ix9ine  Name: BILLY|id: 5KhFaq45chTw8RGfWo8T8J|Popularity: 84\n",
      "ArtistName: 6ix9ine  Name: TATI|id: 6kp0inxIexxSiDJfWqq0ZL|Popularity: 84\n",
      "ArtistName: 6ix9ine  Name: GOTTI|id: 27oFpFktCq9JIXjJQRuv7a|Popularity: 83\n",
      "ArtistName: 6ix9ine  Name: GUMMO|id: 4HbiCvH1R7mVOJ7KY7JQBD|Popularity: 81\n",
      "ArtistName: 6ix9ine  Name: KEKE|id: 14PlDNjNh3pXyHXzkhX8n5|Popularity: 78\n",
      "ArtistName: 6ix9ine  Name: Poles 1469|id: 4fC5jw1TI59GH1emfN1wtk|Popularity: 78\n",
      "ArtistName: 6ix9ine  Name: INTERNATIONAL GANGSTAS|id: 4IAVIBh9jbYN30DwpHFMD4|Popularity: 78\n",
      "ArtistName: 6ix9ine  Name: KOODA|id: 0tYHqwTW4s6VuPWDSD7n7K|Popularity: 76\n",
      "ArtistName: Travis Scott  Name: SICKO MODE|id: 2xLMifQCjDGFmkHkpNLD9h|Popularity: 97\n",
      "ArtistName: Travis Scott  Name: STARGAZING|id: 7wBJfHzpfI3032CSD7CE2m|Popularity: 92\n",
      "ArtistName: Travis Scott  Name: YOSEMITE|id: 7lAK3oHbfEnvUQWosrMMpR|Popularity: 88\n",
      "ArtistName: Travis Scott  Name: BUTTERFLY EFFECT|id: 2cYqizR4lgvp4Qu6IQ3qGN|Popularity: 86\n",
      "ArtistName: Travis Scott  Name: goosebumps|id: 6gBFPUFcJLzWGx4lenP6h2|Popularity: 86\n",
      "ArtistName: Travis Scott  Name: WAKE UP|id: 20MuVazoNMv6xjKPnRFOxG|Popularity: 85\n",
      "ArtistName: Travis Scott  Name: CAN'T SAY|id: 27a1mYSG5tYg7dmEjWBcmL|Popularity: 84\n",
      "ArtistName: Travis Scott  Name: CAROUSEL|id: 7KZ5MMVgBVox9ycroB2UrI|Popularity: 84\n",
      "ArtistName: Travis Scott  Name: STOP TRYING TO BE GOD|id: 1xYpVRspgaLxdJLOTQkTjg|Popularity: 84\n",
      "ArtistName: Travis Scott  Name: NO BYSTANDERS|id: 6OaVWaGfhXn70ZJfdVcabn|Popularity: 83\n",
      "ArtistName: 5 Seconds Of Summer  Name: Youngblood|id: 2iUXsYOEPhVqEBwsqP70rE|Popularity: 89\n",
      "ArtistName: 5 Seconds Of Summer  Name: Valentine|id: 19hh7DkfRBrpRGYfKlw7jb|Popularity: 77\n",
      "ArtistName: 5 Seconds Of Summer  Name: Want You Back|id: 2vHfabj6nFebekTYODqntl|Popularity: 76\n",
      "ArtistName: 5 Seconds Of Summer  Name: Lie To Me|id: 3567eNX2L3RkkMkwspncMH|Popularity: 73\n",
      "ArtistName: 5 Seconds Of Summer  Name: Ghost Of You|id: 1MhXdlCQPnO56T57MfmaRm|Popularity: 72\n",
      "ArtistName: 5 Seconds Of Summer  Name: Moving Along|id: 4UQajPk0EPvbwWTl0fYi4C|Popularity: 71\n",
      "ArtistName: 5 Seconds Of Summer  Name: If Walls Could Talk|id: 0nCVLAhIUrLQ34Vw5vTXNP|Popularity: 70\n",
      "ArtistName: 5 Seconds Of Summer  Name: Talk Fast|id: 1pMrGc8rMC5qx0zMak8tkd|Popularity: 70\n",
      "ArtistName: 5 Seconds Of Summer  Name: Better Man|id: 40rMvmTT9RX4KB0JzMNYZO|Popularity: 69\n",
      "ArtistName: 5 Seconds Of Summer  Name: Babylon|id: 6PUYqQtGWVAovZrLC9BIqt|Popularity: 69\n",
      "ArtistName: Benny Blanco  Name: Eastside (with Halsey & Khalid)|id: 0d2iYfpKoM0QCKvcLCkBao|Popularity: 98\n",
      "ArtistName: Benny Blanco  Name: Eastside (with Halsey & Khalid) - Acoustic|id: 5iQ0Va8Dt5Yky4TXuqO5TF|Popularity: 73\n",
      "ArtistName: Benny Blanco  Name: Somebody to Love - Remix|id: 6tnrFU8iLQ6orFXjCA3flL|Popularity: 44\n",
      "ArtistName: Benny Blanco  Name: DONTTRUSTME (feat. KIDCUDI) - BENNYBLANCOREMIX|id: 1T2vMZzXZ2mJGhshNYRwPF|Popularity: 38\n",
      "ArtistName: Benny Blanco  Name: Ain't No Sunshine - Benny Blanco Remix|id: 1CDDoRmRhOTpzdM3WWfZ6H|Popularity: 33\n"
     ]
    },
    {
     "name": "stdout",
     "output_type": "stream",
     "text": [
      "ArtistName: Tyga  Name: Taste (feat. Offset)|id: 5IaHrVsrferBYDm0bDyABy|Popularity: 96\n",
      "ArtistName: Tyga  Name: SWISH|id: 55GiOwtxNajXVbpjjIzMnD|Popularity: 89\n",
      "ArtistName: Tyga  Name: Dip|id: 2qfR91VvO7hRp4IajDT08h|Popularity: 76\n",
      "ArtistName: Tyga  Name: Ayo|id: 0k6DnZMLoEUH8NGD5zh2SE|Popularity: 76\n",
      "ArtistName: Tyga  Name: Ice Cream Man|id: 6ZA3Q8Dj5BrnmOsT300DCh|Popularity: 70\n",
      "ArtistName: Tyga  Name: Leather in The Rain (feat. Kyndall)|id: 5lJAZ8IMBzfeWcV3PjCMMO|Popularity: 70\n",
      "ArtistName: Tyga  Name: Sip A Lil (feat. Gucci Mane)|id: 6MPR32vGG1AaQMYOfqvyqx|Popularity: 68\n",
      "ArtistName: Tyga  Name: Rack City|id: 0srwKuJPH8yBzzFUJMBQM2|Popularity: 68\n",
      "ArtistName: Tyga  Name: Bitches N Marijuana|id: 3PiLfzEXHrvT1oJKR8PAJt|Popularity: 66\n",
      "ArtistName: Tyga  Name: Swap Meet|id: 4bIFTZSKHZEMDUlEVF4ubu|Popularity: 66\n",
      "ArtistName: Imagine Dragons  Name: Natural|id: 4zIO3ilp5HvTeK3HJHxhMP|Popularity: 94\n",
      "ArtistName: Imagine Dragons  Name: Believer|id: 0pqnGHJpmpxLKifKRmU6WP|Popularity: 89\n",
      "ArtistName: Imagine Dragons  Name: Thunder|id: 1zB4vmk8tFRmM9UULNzbLB|Popularity: 88\n",
      "ArtistName: Imagine Dragons  Name: Born To Be Yours|id: 0WVAQaxrT0wsGEG4BCVSn2|Popularity: 78\n",
      "ArtistName: Imagine Dragons  Name: Whatever It Takes|id: 6Qn5zhYkTa37e91HC1D7lb|Popularity: 85\n",
      "ArtistName: Imagine Dragons  Name: Sucker For Pain (with Wiz Khalifa, Imagine Dragons, Logic & Ty Dolla $ign feat. X Ambassadors)|id: 4dASQiO1Eoo3RJvt74FtXB|Popularity: 80\n",
      "ArtistName: Imagine Dragons  Name: Next To Me|id: 31VOknKjFrEX47bZXzqcoF|Popularity: 80\n",
      "ArtistName: Imagine Dragons  Name: Demons|id: 3LlAyCYU26dvFZBDUIMb7a|Popularity: 74\n",
      "ArtistName: Imagine Dragons  Name: Radioactive|id: 4G8gkOterJn0Ywt6uhqbhp|Popularity: 75\n",
      "ArtistName: Imagine Dragons  Name: Zero - From the Original Motion Picture \"Ralph Breaks The Internet\"|id: 0cDwUAF7yQrOLRcFfJpSc2|Popularity: 78\n",
      "ArtistName: DJ Khaled  Name: No Brainer|id: 5WvAo7DNuPRmk4APhdPzi8|Popularity: 96\n",
      "ArtistName: DJ Khaled  Name: I'm the One (feat. Justin Bieber, Quavo, Chance the Rapper & Lil Wayne)|id: 1jYiIOC5d6soxkJP81fxq2|Popularity: 75\n",
      "ArtistName: DJ Khaled  Name: Wild Thoughts (feat. Rihanna & Bryson Tiller)|id: 45XhKYRRkyeqoW3teSOkCM|Popularity: 73\n",
      "ArtistName: DJ Khaled  Name: Dinero|id: 22mQXNE0nCuWq4yOwcadIn|Popularity: 75\n",
      "ArtistName: DJ Khaled  Name: Top Off|id: 1W6wxOOYyJyyok8fqYSZ3m|Popularity: 70\n",
      "ArtistName: DJ Khaled  Name: All I Do Is Win|id: 6u5M4jPpYkoRV4vVHDQvkd|Popularity: 68\n",
      "ArtistName: DJ Khaled  Name: I'm On One|id: 608a1wIsSd5KzMEqm1O7w3|Popularity: 67\n",
      "ArtistName: DJ Khaled  Name: Do You Mind|id: 4VJ7mnW4wjjIgPBM6KWvPu|Popularity: 63\n",
      "ArtistName: DJ Khaled  Name: Hold You Down|id: 2Ima72UXnfvR539afL3SAF|Popularity: 64\n",
      "ArtistName: DJ Khaled  Name: For Free|id: 5TqBAOIBe0bQA0spNdcG3k|Popularity: 57\n",
      "ArtistName: Ariana Grande  Name: breathin|id: 4OafepJy2teCjYJbvFE60J|Popularity: 94\n",
      "ArtistName: Ariana Grande  Name: God is a woman|id: 5OCJzvD7sykQEKHH7qAC3C|Popularity: 94\n",
      "ArtistName: Ariana Grande  Name: no tears left to cry|id: 2qT1uLXPVPzGgFOx4jtEuo|Popularity: 91\n",
      "ArtistName: Ariana Grande  Name: sweetener|id: 70khXICDeTTxgYtw3EysKH|Popularity: 85\n",
      "ArtistName: Ariana Grande  Name: everytime|id: 0WdR2AyLW1Drd3OUdwezM0|Popularity: 85\n",
      "ArtistName: Ariana Grande  Name: R.E.M|id: 1xWH8zYtDeS9mW1JJG23VZ|Popularity: 83\n",
      "ArtistName: Ariana Grande  Name: Side To Side|id: 1pKeFVVUOPjFsOABub0OaV|Popularity: 83\n",
      "ArtistName: Ariana Grande  Name: goodnight n go|id: 14kYOiFVPb7E7NfFbqhdln|Popularity: 82\n",
      "ArtistName: Ariana Grande  Name: pete davidson|id: 0XOnMqLQDO89iAg7dWWwnG|Popularity: 82\n",
      "ArtistName: Ariana Grande  Name: Into You|id: 2meEiZKWkiN28gITzFwQo5|Popularity: 82\n",
      "ArtistName: Selena Gomez  Name: Back To You - From 13 Reasons Why – Season 2 Soundtrack|id: 4hQ6UGyWQIGJmHSo0J88JW|Popularity: 88\n",
      "ArtistName: Selena Gomez  Name: Wolves|id: 0tBbt8CrmxbjRP0pueQkyU|Popularity: 85\n",
      "ArtistName: Selena Gomez  Name: It Ain’t Me (with Selena Gomez)|id: 12GEpg2XOPyqk03JZEZnJs|Popularity: 72\n",
      "ArtistName: Selena Gomez  Name: Bad Liar|id: 2fZQIJew3nkNe99s2PKzul|Popularity: 78\n",
      "ArtistName: Selena Gomez  Name: Taki Taki (with Selena Gomez, Ozuna & Cardi B)|id: 4w8niZpiMy6qz1mntFA5uM|Popularity: 77\n",
      "ArtistName: Selena Gomez  Name: Fetish (feat. Gucci Mane)|id: 4lnAN2S1fcI0SjxEbksZVr|Popularity: 76\n",
      "ArtistName: Selena Gomez  Name: The Heart Wants What It Wants|id: 2dRvMEW4EwySxRUtEamSfG|Popularity: 73\n",
      "ArtistName: Selena Gomez  Name: Kill Em With Kindness|id: 1QNoKVgA758HFLu3TW2q7R|Popularity: 67\n",
      "ArtistName: Selena Gomez  Name: Hands To Myself|id: 1LoriJC05IrHIDwj3q0KC1|Popularity: 67\n",
      "ArtistName: Selena Gomez  Name: Same Old Love|id: 1BZG99C7Co1r6QUC3zaS59|Popularity: 67\n",
      "ArtistName: Lil Baby  Name: Yes Indeed|id: 6vN77lE9LK6HP2DewaN6HZ|Popularity: 90\n",
      "ArtistName: Lil Baby  Name: Drip Too Hard|id: 1BxkZE73h9BN3qwuA15TA3|Popularity: 86\n",
      "ArtistName: Lil Baby  Name: Life Goes On|id: 2bSk87AVkCIIC3Bcligq1z|Popularity: 82\n",
      "ArtistName: Lil Baby  Name: Freestyle|id: 5BbdKBZO0TH0GhfxUfyhL9|Popularity: 79\n",
      "ArtistName: Lil Baby  Name: Southside|id: 5lf3ajySox32qFvGEf2TFM|Popularity: 72\n",
      "ArtistName: Lil Baby  Name: All Of A Sudden|id: 0XOMoQbYxYPVLxwK4VDmNA|Popularity: 72\n",
      "ArtistName: Lil Baby  Name: My Dawg|id: 49K3jbwZmZKaDGTfjpIVg0|Popularity: 71\n",
      "ArtistName: Lil Baby  Name: Never Needed No Help|id: 7cEZShpmZ7dencnV8ibyUS|Popularity: 70\n",
      "ArtistName: Lil Baby  Name: Throwing Shade|id: 2Z9wPJaKys1LAOlcBtjvOU|Popularity: 69\n",
      "ArtistName: Lil Baby  Name: Leaked|id: 0FIcYpNaqZaJnP3yDcaBN6|Popularity: 68\n",
      "ArtistName: Ella Mai  Name: Trip|id: 7noud145AHZGg74vpWOsCa|Popularity: 86\n",
      "ArtistName: Ella Mai  Name: Boo'd Up|id: 0At2qAoaVjIwWNAqrscXli|Popularity: 85\n",
      "ArtistName: Ella Mai  Name: She Don't (feat. Ty Dolla $Ign)|id: 01JPQ87UHeGysPVwTqMJHK|Popularity: 75\n",
      "ArtistName: Ella Mai  Name: Naked|id: 4E3FwGMzfnpG5TScXYUiaZ|Popularity: 74\n",
      "ArtistName: Ella Mai  Name: Boo'd Up (with Nicki Minaj & Quavo) - Remix|id: 1kcEx8qhKKHjHkM4bj5s8F|Popularity: 71\n",
      "ArtistName: Ella Mai  Name: Breakfast In Bed|id: 2j0FtLNpLPaSX9rKuIdBFH|Popularity: 67\n",
      "ArtistName: Ella Mai  Name: 10,000 Hours|id: 6d1fGqMtdUEuHqFSDMlR0N|Popularity: 66\n",
      "ArtistName: Ella Mai  Name: Anymore|id: 2Ymig15Ykfk10tAS3fCoij|Popularity: 65\n",
      "ArtistName: Ella Mai  Name: A Thousand Times|id: 3ZzKKSPEOIfaSqkZ0cwXtN|Popularity: 65\n",
      "ArtistName: Ella Mai  Name: Makes Me Wonder|id: 4zwZhQnqJTr1rQ9wRY3nNr|Popularity: 64\n",
      "ArtistName: Machine Gun Kelly  Name: RAP DEVIL|id: 43TP6JCWXgkc2D7Xjz5hBr|Popularity: 70\n",
      "ArtistName: Machine Gun Kelly  Name: Home (with Machine Gun Kelly, X Ambassadors & Bebe Rexha)|id: 0OI7AFifLSoGzpb8bdBLLV|Popularity: 78\n",
      "ArtistName: Machine Gun Kelly  Name: Bad Things (with Camila Cabello)|id: 1PSBzsahR2AKwLJgx8ehBj|Popularity: 76\n",
      "ArtistName: Machine Gun Kelly  Name: Till I Die|id: 7rq7HvZrCie7MmiGm8pUVC|Popularity: 73\n",
      "ArtistName: Machine Gun Kelly  Name: LOCO|id: 4jaH6whRB6Zgy5EzvKN5ZL|Popularity: 66\n",
      "ArtistName: Machine Gun Kelly  Name: Bad Mother F*cker|id: 2kjPvFgVIGki2BRlOHvQQr|Popularity: 70\n",
      "ArtistName: Machine Gun Kelly  Name: LATELY|id: 5GsDw8rD0LJ9XF4dEzUPDK|Popularity: 69\n",
      "ArtistName: Machine Gun Kelly  Name: At My Best (feat. Hailee Steinfeld)|id: 77lGafvlU68CeHgB2pkHC9|Popularity: 68\n",
      "ArtistName: Machine Gun Kelly  Name: Alpha Omega|id: 0Yvwo9fENGoa60k3ClwzQf|Popularity: 68\n",
      "ArtistName: Machine Gun Kelly  Name: Habits|id: 7IHznpBxFDKwGSFFZitRk2|Popularity: 67\n",
      "ArtistName: YG  Name: BIG BANK (feat. 2 Chainz, Big Sean, Nicki Minaj)|id: 0ZNrc4kNeQYD9koZ3KvCsy|Popularity: 88\n",
      "ArtistName: YG  Name: That's My N**** (with Meek Mill, YG & Snoop Dogg)|id: 3i1B1PnsfnOQPGVIzhf1lr|Popularity: 74\n",
      "ArtistName: YG  Name: HANDGUN (feat. A$AP Rocky)|id: 50wkDxcIfamIajKwmgp0iB|Popularity: 74\n",
      "ArtistName: YG  Name: BULLETPROOF (feat. Jay 305)|id: 1qUdAB72nSWPZwDqH9KMYD|Popularity: 73\n",
      "ArtistName: YG  Name: She Bad|id: 0CfmNX2TXk7yoJqHJiixnp|Popularity: 72\n",
      "ArtistName: YG  Name: SUU WHOOP|id: 6JzvfFCIFT1CbbHE1pDNBU|Popularity: 72\n",
      "ArtistName: YG  Name: POWER (feat. Ty Dolla $ign)|id: 4QL6NHf6sl3Sx58AFKc1GQ|Popularity: 72\n",
      "ArtistName: YG  Name: TOO COCKY|id: 7GG1QIQ547taCwl1uLaTf5|Popularity: 70\n",
      "ArtistName: YG  Name: 666 (feat. YoungBoy Never Broke Again)|id: 3R2fdTDtARC4xwKSG0rNWE|Popularity: 69\n",
      "ArtistName: YG  Name: SLAY (feat. Quavo)|id: 33NEAJosK5zyLY2D4OG7AE|Popularity: 69\n"
     ]
    },
    {
     "name": "stdout",
     "output_type": "stream",
     "text": [
      "ArtistName: Florida Georgia Line  Name: I'm a Mess|id: 04ZTP5KsCypmtCmQg5tH9R|Popularity: 89\n",
      "ArtistName: Florida Georgia Line  Name: Meant to Be (feat. Florida Georgia Line)|id: 4e4fqjx0Izh4svvTef1z7e|Popularity: 73\n",
      "ArtistName: Florida Georgia Line  Name: Say My Name|id: 3MoV1UsAJmz64LHqyiRMp0|Popularity: 76\n",
      "ArtistName: Florida Georgia Line  Name: In the Name of Love|id: 23L5CiUhw2jV1OIMwthR3S|Popularity: 82\n",
      "ArtistName: Florida Georgia Line  Name: Girls (feat. Cardi B, Bebe Rexha & Charli XCX)|id: 1YNQscOx6OqBQjxgJVhEeW|Popularity: 81\n",
      "ArtistName: Florida Georgia Line  Name: Me, Myself & I|id: 40YcuQysJ0KlGQTeGUosTC|Popularity: 79\n",
      "ArtistName: Florida Georgia Line  Name: Home (with Machine Gun Kelly, X Ambassadors & Bebe Rexha)|id: 0OI7AFifLSoGzpb8bdBLLV|Popularity: 78\n",
      "ArtistName: Florida Georgia Line  Name: Bad Bitch (feat. Ty Dolla $ign)|id: 4ZJPwET9Jrgpkqi4Vo3Yg8|Popularity: 71\n",
      "ArtistName: Florida Georgia Line  Name: The Way I Are (Dance With Somebody) [feat. Lil Wayne]|id: 6Pw3Gvw4wNMZfTYZa6IQal|Popularity: 71\n",
      "ArtistName: Florida Georgia Line  Name: Self Control|id: 14FmT2vkYihAs64ixAbk6t|Popularity: 71\n",
      "ArtistName: Taylor Swift  Name: Delicate|id: 6NFyWDv5CjfwuzoCkw47Xf|Popularity: 83\n",
      "ArtistName: Taylor Swift  Name: Look What You Made Me Do|id: 1P17dC1amhFzptugyAO7Il|Popularity: 81\n",
      "ArtistName: Taylor Swift  Name: End Game|id: 2x0WlnmfG39ZuDmstl9xfX|Popularity: 78\n",
      "ArtistName: Taylor Swift  Name: Shake It Off|id: 5xTtaWoae3wi06K5WfVUUH|Popularity: 71\n",
      "ArtistName: Taylor Swift  Name: ...Ready For It?|id: 2yLa0QULdQr0qAIvVwN6B5|Popularity: 78\n",
      "ArtistName: Taylor Swift  Name: I Don’t Wanna Live Forever (Fifty Shades Darker) - From \"Fifty Shades Darker (Original Motion Picture Soundtrack)\"|id: 2y5aJvzXhHPA94U5GFAcXe|Popularity: 77\n",
      "ArtistName: Taylor Swift  Name: Gorgeous|id: 1ZY1PqizIl78geGM4xWlEA|Popularity: 77\n",
      "ArtistName: Taylor Swift  Name: Blank Space|id: 1p80LdxRV74UKvL8gnD7ky|Popularity: 70\n",
      "ArtistName: Taylor Swift  Name: I Did Something Bad|id: 4svZDCRz4cJoneBpjpx8DJ|Popularity: 74\n",
      "ArtistName: Taylor Swift  Name: Call It What You Want|id: 1GwMQaZz6Au3QLDbjbMdme|Popularity: 74\n",
      "ArtistName: Marshmello  Name: Happier|id: 2dpaYNEQHiRxtZbfNsse99|Popularity: 97\n",
      "ArtistName: Marshmello  Name: FRIENDS|id: 08bNPGLD8AhKpnnERrAc6G|Popularity: 89\n",
      "ArtistName: Marshmello  Name: Silence|id: 7vGuf3Y35N4wmASOKLUVVU|Popularity: 86\n",
      "ArtistName: Marshmello  Name: Wolves|id: 0tBbt8CrmxbjRP0pueQkyU|Popularity: 85\n",
      "ArtistName: Marshmello  Name: Everyday|id: 4EAV2cKiqKP5UPZmY6dejk|Popularity: 80\n",
      "ArtistName: Marshmello  Name: Spotlight|id: 6VrCmhRBFnuGKmtNfk4jDs|Popularity: 80\n",
      "ArtistName: Marshmello  Name: Alone|id: 12mGwph2YzDIlChtq3EdXP|Popularity: 77\n",
      "ArtistName: Marshmello  Name: Danger (with Migos & Marshmello)|id: 0nhVrTiCGiGRCoZOJiWzm1|Popularity: 72\n",
      "ArtistName: Marshmello  Name: You Can Cry|id: 3ZbJMlEL4Kcme0ONRO7Slx|Popularity: 71\n",
      "ArtistName: Marshmello  Name: Fly|id: 2HO0uCyq8jOveEzvmo4JEu|Popularity: 69\n",
      "ArtistName: XXXTENTACION  Name: SAD!|id: 3ee8Jmje8o58CHK66QrVC2|Popularity: 96\n",
      "ArtistName: XXXTENTACION  Name: Moonlight|id: 0JP9xo3adEtGSdUEISiszL|Popularity: 94\n",
      "ArtistName: XXXTENTACION  Name: Falling Down|id: 0Dn40gxVCMo5TkgS8Ik18Q|Popularity: 94\n",
      "ArtistName: XXXTENTACION  Name: Jocelyn Flores|id: 7m9OqQk4RVRkw9JJdeAw96|Popularity: 93\n",
      "ArtistName: XXXTENTACION  Name: changes|id: 7AFASza1mXqntmGtbxXprO|Popularity: 92\n",
      "ArtistName: XXXTENTACION  Name: Fuck Love (feat. Trippie Redd)|id: 7AQim7LbvFVZJE3O8TYgf2|Popularity: 90\n",
      "ArtistName: XXXTENTACION  Name: Everybody Dies In Their Nightmares|id: 3GVkPk8mqxz0itaAriG1L7|Popularity: 89\n",
      "ArtistName: XXXTENTACION  Name: the remedy for a broken heart (why am I so in love)|id: 4UKCKdYiLN6IMA5ZESUTL7|Popularity: 87\n",
      "ArtistName: XXXTENTACION  Name: Hope|id: 2ZRo7axmMPeSVUvDbGkJah|Popularity: 87\n",
      "ArtistName: XXXTENTACION  Name: Look At Me!|id: 6eYxmK9fdL4hwLnXG2zY3s|Popularity: 81\n",
      "ArtistName: Lauv  Name: I Like Me Better|id: 2P91MQbaiQOfbiz9VqhqKQ|Popularity: 76\n",
      "ArtistName: Lauv  Name: Superhero|id: 1Fo4OvzP9PThFKMeMIAEYu|Popularity: 81\n",
      "ArtistName: Lauv  Name: Enemies|id: 3JJYIoJ5FyY9E0DGjr7SXF|Popularity: 80\n",
      "ArtistName: Lauv  Name: A Different Way (with Lauv)|id: 1YMBg7rOjxzbya0fPOYfNX|Popularity: 75\n",
      "ArtistName: Lauv  Name: Never Not|id: 4fFfyouye6vrX9o9z4PVMu|Popularity: 75\n",
      "ArtistName: Lauv  Name: Paris in the Rain|id: 41CgzGD7xlgnJe14R4cqkL|Popularity: 74\n",
      "ArtistName: Lauv  Name: Chasing Fire|id: 2zXRAZvUb2B5PzJGwCtFe0|Popularity: 66\n",
      "ArtistName: Lauv  Name: Getting Over You|id: 4G4gtvlaFaI6v6wWD8UvqL|Popularity: 73\n",
      "ArtistName: Lauv  Name: The Story Never Ends|id: 3u5bTqHMM1P34ZkbwzdckV|Popularity: 73\n",
      "ArtistName: Lauv  Name: Easy Love|id: 732Sqj2piYPhdMPENP4axz|Popularity: 70\n",
      "ArtistName: Zedd  Name: Happy Now|id: 4keoy2fqgwGnbWlm3ZVZFa|Popularity: 92\n",
      "ArtistName: Zedd  Name: The Middle|id: 09IStsImFySgyp0pIQdqAc|Popularity: 89\n",
      "ArtistName: Zedd  Name: Stay (with Alessia Cara)|id: 6uBhi9gBXWjanegOb2Phh0|Popularity: 83\n",
      "ArtistName: Zedd  Name: Clarity|id: 60wwxj6Dd9NJlirf84wr2c|Popularity: 73\n",
      "ArtistName: Zedd  Name: Get Low (with Liam Payne)|id: 2syQ0f4SAQdzvlAewPl1DJ|Popularity: 71\n",
      "ArtistName: Zedd  Name: Beautiful Now|id: 2ISSQPb9LHHiV6ng2NXosL|Popularity: 70\n",
      "ArtistName: Zedd  Name: Lost In Japan - Remix|id: 575NJxNUVDqwJGdzBrlLbv|Popularity: 70\n",
      "ArtistName: Zedd  Name: I Want You To Know|id: 1JDIArrcepzWDTAWXdGYmP|Popularity: 68\n",
      "ArtistName: Zedd  Name: Happy Now - Acoustic|id: 6cWpGXt8X3WqHYnnDeNiKV|Popularity: 66\n",
      "ArtistName: Zedd  Name: Stay The Night - Featuring Hayley Williams Of Paramore|id: 2QtJA4gbwe1AcanB2p21aP|Popularity: 63\n",
      "ArtistName: Dan + Shay  Name: Tequila|id: 42fw0rxRO2xbesF6mJfd4Y|Popularity: 72\n",
      "ArtistName: Dan + Shay  Name: Speechless|id: 3GJ4hzg4lrGwU51Y3VARbF|Popularity: 70\n",
      "ArtistName: Dan + Shay  Name: All To Myself|id: 08tq1XcHwVt5PHXUo87i0D|Popularity: 66\n",
      "ArtistName: Dan + Shay  Name: Keeping Score (feat. Kelly Clarkson)|id: 57KKY8gqUqqS3YXYotkxS5|Popularity: 64\n",
      "ArtistName: Dan + Shay  Name: How Not To|id: 4n0xztUAbHPUV8G3NQvF30|Popularity: 69\n",
      "ArtistName: Dan + Shay  Name: Nothin' Like You|id: 4W38RXuQNuoTSwVsQA1OGC|Popularity: 68\n",
      "ArtistName: Dan + Shay  Name: From the Ground Up|id: 0lQJBl9YEsoMtE8D4yTE9g|Popularity: 64\n",
      "ArtistName: Dan + Shay  Name: Tequila - R3HAB Remix|id: 2aAyDqzwEeVIigSMFM1tNS|Popularity: 66\n",
      "ArtistName: Dan + Shay  Name: Alone Together|id: 3ZsLuJ8uU0lE6rGTkDaqEg|Popularity: 66\n",
      "ArtistName: Dan + Shay  Name: What Keeps You Up At Night|id: 3rHrG1sHYd7h2yWKnxRk56|Popularity: 64\n",
      "ArtistName: Sheck Wes  Name: Mo Bamba|id: 3QybPutx0Tjk472bBKjNWn|Popularity: 90\n",
      "ArtistName: Sheck Wes  Name: Live SheckWes Die SheckWes|id: 0asxiZ68X8m2wuJwsabF6d|Popularity: 70\n",
      "ArtistName: Sheck Wes  Name: Chippi Chippi|id: 5agc2KAE8hYA4pusGBGZvV|Popularity: 68\n",
      "ArtistName: Sheck Wes  Name: Do That|id: 3iVq1zq46q0auo3VwixXFe|Popularity: 65\n",
      "ArtistName: lovelytheband  Name: broken|id: 6XcfKZvJio9Z0fQy11GnNX|Popularity: 82\n",
      "ArtistName: lovelytheband  Name: these are my friends|id: 3lPj2nA1lIrWIpbnhNG57v|Popularity: 63\n",
      "ArtistName: lovelytheband  Name: don't worry, you will|id: 09akcdeCiV2jIl6x9WpmxA|Popularity: 55\n",
      "ArtistName: lovelytheband  Name: maybe, i'm afraid|id: 4LU5CO0wa6WryKRadMqFZf|Popularity: 55\n",
      "ArtistName: lovelytheband  Name: make you feel pretty|id: 4hTApLB99sWDeb1RPsrSye|Popularity: 54\n",
      "ArtistName: lovelytheband  Name: alone time|id: 3ou12IbZt7XrHRK1C3ocfF|Popularity: 53\n",
      "ArtistName: lovelytheband  Name: pity party|id: 24OlCyJUGgaiFLpB30oV6T|Popularity: 52\n",
      "ArtistName: lovelytheband  Name: coachella|id: 1bPJ6Ay1La8IYPCuCvQA7k|Popularity: 51\n",
      "ArtistName: lovelytheband  Name: emotion|id: 0XEgPU43khXFBkMMGILzds|Popularity: 50\n",
      "ArtistName: lovelytheband  Name: i like the way|id: 3LjZJVUEJ06TQ8AOO2Mg8m|Popularity: 49\n",
      "ArtistName: Bazzi  Name: Beautiful (feat. Camila Cabello)|id: 4VUwkH455At9kENOfzTqmF|Popularity: 93\n",
      "ArtistName: Bazzi  Name: Mine|id: 7uzmGiiJyRfuViKKK3lVmR|Popularity: 87\n",
      "ArtistName: Bazzi  Name: Beautiful|id: 5TVirkSwFEXF1nLJEebe2I|Popularity: 81\n",
      "ArtistName: Bazzi  Name: Honest|id: 11Tfh16o0SW8KdiQdeESEX|Popularity: 76\n",
      "ArtistName: Bazzi  Name: 3:15|id: 6pmZMP2ET1OJi5rKfLO8jD|Popularity: 75\n",
      "ArtistName: Bazzi  Name: Why|id: 7lozLnUfzcgEpMMVQI7yhA|Popularity: 74\n",
      "ArtistName: Bazzi  Name: Myself|id: 5YLHLxoZsodDWjqSgjhBf3|Popularity: 73\n",
      "ArtistName: Bazzi  Name: Dreams|id: 6fZpcVRr45Z6fLtciswBBU|Popularity: 70\n",
      "ArtistName: Bazzi  Name: Star|id: 2JuIs3XJlYPy8vBO66CEkJ|Popularity: 69\n",
      "ArtistName: Bazzi  Name: Gone|id: 0BPPXRTLzEySdF5DZm0Hmg|Popularity: 67\n"
     ]
    },
    {
     "name": "stdout",
     "output_type": "stream",
     "text": [
      "ArtistName: Lil Peep  Name: Falling Down|id: 0Dn40gxVCMo5TkgS8Ik18Q|Popularity: 94\n",
      "ArtistName: Lil Peep  Name: Save That Shit|id: 0S0vWvyZ6Rc79TXkWxT9QA|Popularity: 82\n",
      "ArtistName: Lil Peep  Name: Spotlight|id: 6VrCmhRBFnuGKmtNfk4jDs|Popularity: 80\n",
      "ArtistName: Lil Peep  Name: Awful Things|id: 7Hr2XoaGpIMKbNXCZDZ3le|Popularity: 78\n",
      "ArtistName: Lil Peep  Name: Beamer Boy|id: 7hf89cT5FEmLV5E9fjrjG7|Popularity: 78\n",
      "ArtistName: Lil Peep  Name: Benz Truck (гелик)|id: 3kBD2xHIqKWXjLAGidDTSz|Popularity: 77\n",
      "ArtistName: Lil Peep  Name: Better Off (Dying)|id: 1tlrTC3x7viJ1U30oOFGdF|Popularity: 75\n",
      "ArtistName: Lil Peep  Name: U Said|id: 3F42FHouOY59SnSsyD2TAX|Popularity: 74\n",
      "ArtistName: Lil Peep  Name: The Brightside|id: 4DbnKBddcHUHbYpidc36AT|Popularity: 74\n",
      "ArtistName: Lil Peep  Name: White Wine|id: 3Q241k92c1I5sqKbdw6Ujb|Popularity: 73\n",
      "ArtistName: Old Dominion  Name: Hotel Key|id: 33471tzU1VghDg9zNgGRpz|Popularity: 75\n",
      "ArtistName: Old Dominion  Name: Written in the Sand|id: 2A69wys3S9uiPSmn6UZWJn|Popularity: 75\n",
      "ArtistName: Old Dominion  Name: No Such Thing as a Broken Heart|id: 0OlS52TmtK2gPaEtdmr7DN|Popularity: 70\n",
      "ArtistName: Old Dominion  Name: Break Up with Him|id: 5ZManJDV3CexO66nRCkdiV|Popularity: 69\n",
      "ArtistName: Old Dominion  Name: Snapback|id: 7I5fYc4qKJddht8Ozhqqdx|Popularity: 68\n",
      "ArtistName: Old Dominion  Name: Song for Another Time|id: 7px4t7HGiuMUvFkEOpZEwp|Popularity: 68\n",
      "ArtistName: Old Dominion  Name: Bad At Love - Recorded at Sound Stage Studios Nashville|id: 1kTugNMVMbaQep1srMua2q|Popularity: 66\n",
      "ArtistName: Old Dominion  Name: Nowhere Fast|id: 6arLnfArtdWKOcCYzDd4rS|Popularity: 66\n",
      "ArtistName: Old Dominion  Name: Be with Me|id: 7mFNmurtskRmkxR01mYPfx|Popularity: 58\n",
      "ArtistName: Old Dominion  Name: Stars in the City|id: 55ccxeuwJuxZF8MHsJqOzh|Popularity: 57\n"
     ]
    }
   ],
   "source": [
    "artist_track_ids = []\n",
    "artist_song_names = []\n",
    "artist_songpop = []\n",
    "artist_name=[]\n",
    "\n",
    "for ids in artistidname.keys():\n",
    "    artistname=artistidname[ids]\n",
    "    \n",
    "    artist_top=sp.artist_top_tracks(artist_id=ids)['tracks']\n",
    "    for song in artist_top:\n",
    "        track_id = song['id']\n",
    "        artist_name.append(artistname)\n",
    "        track_name = song['name']\n",
    "        popularity = song['popularity']\n",
    "        artist_track_ids.append(track_id)\n",
    "        artist_song_names.append(track_name)\n",
    "        artist_songpop.append(popularity)\n",
    "        \n",
    "        print(f\"ArtistName: {artistname}  Name: {track_name}|id: {track_id}|Popularity: {popularity}\")\n"
   ]
  },
  {
   "cell_type": "code",
   "execution_count": 85,
   "metadata": {},
   "outputs": [
    {
     "data": {
      "text/plain": [
       "299"
      ]
     },
     "execution_count": 85,
     "metadata": {},
     "output_type": "execute_result"
    }
   ],
   "source": [
    "len(artist_track_ids)\n"
   ]
  },
  {
   "cell_type": "code",
   "execution_count": 86,
   "metadata": {},
   "outputs": [
    {
     "name": "stdout",
     "output_type": "stream",
     "text": [
      "299\n",
      "299\n",
      "299\n",
      "299\n",
      "31\n"
     ]
    },
    {
     "data": {
      "text/html": [
       "<div>\n",
       "<style scoped>\n",
       "    .dataframe tbody tr th:only-of-type {\n",
       "        vertical-align: middle;\n",
       "    }\n",
       "\n",
       "    .dataframe tbody tr th {\n",
       "        vertical-align: top;\n",
       "    }\n",
       "\n",
       "    .dataframe thead th {\n",
       "        text-align: right;\n",
       "    }\n",
       "</style>\n",
       "<table border=\"1\" class=\"dataframe\">\n",
       "  <thead>\n",
       "    <tr style=\"text-align: right;\">\n",
       "      <th></th>\n",
       "      <th>Artist Name</th>\n",
       "      <th>trackid</th>\n",
       "      <th>keys</th>\n",
       "      <th>valences</th>\n",
       "      <th>Mode</th>\n",
       "    </tr>\n",
       "  </thead>\n",
       "  <tbody>\n",
       "    <tr>\n",
       "      <th>0</th>\n",
       "      <td>Cardi B</td>\n",
       "      <td>6V1bu6o1Yo5ZXnsCJU8Ovk</td>\n",
       "      <td>0</td>\n",
       "      <td>0.448</td>\n",
       "      <td>1</td>\n",
       "    </tr>\n",
       "    <tr>\n",
       "      <th>1</th>\n",
       "      <td>Cardi B</td>\n",
       "      <td>2j5hsQvApottzvTn4pFJWF</td>\n",
       "      <td>5</td>\n",
       "      <td>0.419</td>\n",
       "      <td>0</td>\n",
       "    </tr>\n",
       "    <tr>\n",
       "      <th>2</th>\n",
       "      <td>Cardi B</td>\n",
       "      <td>4llK75pXNWZz6KAho2Gp16</td>\n",
       "      <td>0</td>\n",
       "      <td>0.510</td>\n",
       "      <td>0</td>\n",
       "    </tr>\n",
       "    <tr>\n",
       "      <th>3</th>\n",
       "      <td>Cardi B</td>\n",
       "      <td>2iuZJX9X9P0GKaE93xcPjk</td>\n",
       "      <td>1</td>\n",
       "      <td>0.884</td>\n",
       "      <td>1</td>\n",
       "    </tr>\n",
       "    <tr>\n",
       "      <th>4</th>\n",
       "      <td>Cardi B</td>\n",
       "      <td>4gbVRS8gloEluzf0GzDOFc</td>\n",
       "      <td>1</td>\n",
       "      <td>0.879</td>\n",
       "      <td>0</td>\n",
       "    </tr>\n",
       "  </tbody>\n",
       "</table>\n",
       "</div>"
      ],
      "text/plain": [
       "  Artist Name                 trackid  keys  valences  Mode\n",
       "0     Cardi B  6V1bu6o1Yo5ZXnsCJU8Ovk     0     0.448     1\n",
       "1     Cardi B  2j5hsQvApottzvTn4pFJWF     5     0.419     0\n",
       "2     Cardi B  4llK75pXNWZz6KAho2Gp16     0     0.510     0\n",
       "3     Cardi B  2iuZJX9X9P0GKaE93xcPjk     1     0.884     1\n",
       "4     Cardi B  4gbVRS8gloEluzf0GzDOFc     1     0.879     0"
      ]
     },
     "execution_count": 86,
     "metadata": {},
     "output_type": "execute_result"
    }
   ],
   "source": [
    "keys=[]\n",
    "valences=[]\n",
    "modes=[]\n",
    "\n",
    "for track in artist_track_ids:\n",
    "    response=sp.audio_features(tracks=track)[0]\n",
    "    keys.append(response['key'])\n",
    "    valences.append(response['valence'])\n",
    "    modes.append(response['mode'])\n",
    "print(len(keys))\n",
    "print(len(valences))\n",
    "print(len(artist_track_ids))\n",
    "print(len(modes))\n",
    "print(len(artistidname.values()))\n",
    "\n",
    "\n",
    "mydf=pd.DataFrame()\n",
    "mydf['Artist Name']=artist_name\n",
    "mydf['trackid']=artist_track_ids\n",
    "mydf['keys']=keys\n",
    "mydf['valences']=valences\n",
    "mydf['Mode']=modes\n",
    "mydf.head(5)"
   ]
  },
  {
   "cell_type": "code",
   "execution_count": 87,
   "metadata": {},
   "outputs": [
    {
     "data": {
      "text/html": [
       "<div>\n",
       "<style scoped>\n",
       "    .dataframe tbody tr th:only-of-type {\n",
       "        vertical-align: middle;\n",
       "    }\n",
       "\n",
       "    .dataframe tbody tr th {\n",
       "        vertical-align: top;\n",
       "    }\n",
       "\n",
       "    .dataframe thead th {\n",
       "        text-align: right;\n",
       "    }\n",
       "</style>\n",
       "<table border=\"1\" class=\"dataframe\">\n",
       "  <thead>\n",
       "    <tr style=\"text-align: right;\">\n",
       "      <th></th>\n",
       "      <th>keys</th>\n",
       "      <th>valences</th>\n",
       "      <th>Mode</th>\n",
       "    </tr>\n",
       "    <tr>\n",
       "      <th>Artist Name</th>\n",
       "      <th></th>\n",
       "      <th></th>\n",
       "      <th></th>\n",
       "    </tr>\n",
       "  </thead>\n",
       "  <tbody>\n",
       "    <tr>\n",
       "      <th>5 Seconds Of Summer</th>\n",
       "      <td>4.1</td>\n",
       "      <td>0.5377</td>\n",
       "      <td>0.5</td>\n",
       "    </tr>\n",
       "    <tr>\n",
       "      <th>6ix9ine</th>\n",
       "      <td>4.1</td>\n",
       "      <td>0.4239</td>\n",
       "      <td>0.6</td>\n",
       "    </tr>\n",
       "    <tr>\n",
       "      <th>Ariana Grande</th>\n",
       "      <td>6.2</td>\n",
       "      <td>0.4254</td>\n",
       "      <td>0.6</td>\n",
       "    </tr>\n",
       "    <tr>\n",
       "      <th>Bazzi</th>\n",
       "      <td>5.2</td>\n",
       "      <td>0.4921</td>\n",
       "      <td>0.9</td>\n",
       "    </tr>\n",
       "    <tr>\n",
       "      <th>Benny Blanco</th>\n",
       "      <td>6.8</td>\n",
       "      <td>0.6606</td>\n",
       "      <td>0.4</td>\n",
       "    </tr>\n",
       "  </tbody>\n",
       "</table>\n",
       "</div>"
      ],
      "text/plain": [
       "                     keys  valences  Mode\n",
       "Artist Name                              \n",
       "5 Seconds Of Summer   4.1    0.5377   0.5\n",
       "6ix9ine               4.1    0.4239   0.6\n",
       "Ariana Grande         6.2    0.4254   0.6\n",
       "Bazzi                 5.2    0.4921   0.9\n",
       "Benny Blanco          6.8    0.6606   0.4"
      ]
     },
     "execution_count": 87,
     "metadata": {},
     "output_type": "execute_result"
    }
   ],
   "source": [
    "plot1=mydf.groupby(['Artist Name']).mean()\n",
    "\n",
    "plot1.head(5)"
   ]
  },
  {
   "cell_type": "code",
   "execution_count": 88,
   "metadata": {},
   "outputs": [
    {
     "data": {
      "text/plain": [
       "<matplotlib.axes._subplots.AxesSubplot at 0x11514d550>"
      ]
     },
     "execution_count": 88,
     "metadata": {},
     "output_type": "execute_result"
    },
    {
     "data": {
      "image/png": "[encoded data removed]",
      "text/plain": [
       "<Figure size 432x288 with 1 Axes>"
      ]
     },
     "metadata": {
      "needs_background": "light"
     },
     "output_type": "display_data"
    }
   ],
   "source": [
    "plot1.plot(kind='scatter',x='Mode',y='valences')"
   ]
  },
  {
   "cell_type": "code",
   "execution_count": 89,
   "metadata": {},
   "outputs": [],
   "source": [
    "cardi=mydf[mydf['Artist Name']=='Cardi B']"
   ]
  },
  {
   "cell_type": "code",
   "execution_count": 90,
   "metadata": {},
   "outputs": [
    {
     "name": "stderr",
     "output_type": "stream",
     "text": [
      "/usr/local/lib/python3.7/site-packages/ipykernel_launcher.py:1: SettingWithCopyWarning: \n",
      "A value is trying to be set on a copy of a slice from a DataFrame.\n",
      "Try using .loc[row_indexer,col_indexer] = value instead\n",
      "\n",
      "See the caveats in the documentation: http://pandas.pydata.org/pandas-docs/stable/indexing.html#indexing-view-versus-copy\n",
      "  \"\"\"Entry point for launching an IPython kernel.\n"
     ]
    },
    {
     "data": {
      "text/html": [
       "<div>\n",
       "<style scoped>\n",
       "    .dataframe tbody tr th:only-of-type {\n",
       "        vertical-align: middle;\n",
       "    }\n",
       "\n",
       "    .dataframe tbody tr th {\n",
       "        vertical-align: top;\n",
       "    }\n",
       "\n",
       "    .dataframe thead th {\n",
       "        text-align: right;\n",
       "    }\n",
       "</style>\n",
       "<table border=\"1\" class=\"dataframe\">\n",
       "  <thead>\n",
       "    <tr style=\"text-align: right;\">\n",
       "      <th></th>\n",
       "      <th>Artist Name</th>\n",
       "      <th>trackid</th>\n",
       "      <th>keys</th>\n",
       "      <th>valences</th>\n",
       "      <th>Mode</th>\n",
       "      <th>Tracks</th>\n",
       "    </tr>\n",
       "  </thead>\n",
       "  <tbody>\n",
       "    <tr>\n",
       "      <th>0</th>\n",
       "      <td>Cardi B</td>\n",
       "      <td>6V1bu6o1Yo5ZXnsCJU8Ovk</td>\n",
       "      <td>0</td>\n",
       "      <td>0.448</td>\n",
       "      <td>1</td>\n",
       "      <td>0</td>\n",
       "    </tr>\n",
       "    <tr>\n",
       "      <th>1</th>\n",
       "      <td>Cardi B</td>\n",
       "      <td>2j5hsQvApottzvTn4pFJWF</td>\n",
       "      <td>5</td>\n",
       "      <td>0.419</td>\n",
       "      <td>0</td>\n",
       "      <td>1</td>\n",
       "    </tr>\n",
       "    <tr>\n",
       "      <th>2</th>\n",
       "      <td>Cardi B</td>\n",
       "      <td>4llK75pXNWZz6KAho2Gp16</td>\n",
       "      <td>0</td>\n",
       "      <td>0.510</td>\n",
       "      <td>0</td>\n",
       "      <td>2</td>\n",
       "    </tr>\n",
       "    <tr>\n",
       "      <th>3</th>\n",
       "      <td>Cardi B</td>\n",
       "      <td>2iuZJX9X9P0GKaE93xcPjk</td>\n",
       "      <td>1</td>\n",
       "      <td>0.884</td>\n",
       "      <td>1</td>\n",
       "      <td>3</td>\n",
       "    </tr>\n",
       "    <tr>\n",
       "      <th>4</th>\n",
       "      <td>Cardi B</td>\n",
       "      <td>4gbVRS8gloEluzf0GzDOFc</td>\n",
       "      <td>1</td>\n",
       "      <td>0.879</td>\n",
       "      <td>0</td>\n",
       "      <td>4</td>\n",
       "    </tr>\n",
       "    <tr>\n",
       "      <th>5</th>\n",
       "      <td>Cardi B</td>\n",
       "      <td>6ECp64rv50XVz93WvxXMGF</td>\n",
       "      <td>5</td>\n",
       "      <td>0.755</td>\n",
       "      <td>0</td>\n",
       "      <td>5</td>\n",
       "    </tr>\n",
       "    <tr>\n",
       "      <th>6</th>\n",
       "      <td>Cardi B</td>\n",
       "      <td>1nueTG77MzNkJTKQ0ZdGzT</td>\n",
       "      <td>7</td>\n",
       "      <td>0.418</td>\n",
       "      <td>1</td>\n",
       "      <td>6</td>\n",
       "    </tr>\n",
       "    <tr>\n",
       "      <th>7</th>\n",
       "      <td>Cardi B</td>\n",
       "      <td>1LmN9SSHISbtp9LoaR5ZVJ</td>\n",
       "      <td>4</td>\n",
       "      <td>0.523</td>\n",
       "      <td>1</td>\n",
       "      <td>7</td>\n",
       "    </tr>\n",
       "    <tr>\n",
       "      <th>8</th>\n",
       "      <td>Cardi B</td>\n",
       "      <td>6OEHjJJvdkk1Ln0p0AZdyz</td>\n",
       "      <td>0</td>\n",
       "      <td>0.377</td>\n",
       "      <td>1</td>\n",
       "      <td>8</td>\n",
       "    </tr>\n",
       "    <tr>\n",
       "      <th>9</th>\n",
       "      <td>Cardi B</td>\n",
       "      <td>6AvfZXpbb6r35DfF7gHPRq</td>\n",
       "      <td>8</td>\n",
       "      <td>0.452</td>\n",
       "      <td>1</td>\n",
       "      <td>9</td>\n",
       "    </tr>\n",
       "  </tbody>\n",
       "</table>\n",
       "</div>"
      ],
      "text/plain": [
       "  Artist Name                 trackid  keys  valences  Mode  Tracks\n",
       "0     Cardi B  6V1bu6o1Yo5ZXnsCJU8Ovk     0     0.448     1       0\n",
       "1     Cardi B  2j5hsQvApottzvTn4pFJWF     5     0.419     0       1\n",
       "2     Cardi B  4llK75pXNWZz6KAho2Gp16     0     0.510     0       2\n",
       "3     Cardi B  2iuZJX9X9P0GKaE93xcPjk     1     0.884     1       3\n",
       "4     Cardi B  4gbVRS8gloEluzf0GzDOFc     1     0.879     0       4\n",
       "5     Cardi B  6ECp64rv50XVz93WvxXMGF     5     0.755     0       5\n",
       "6     Cardi B  1nueTG77MzNkJTKQ0ZdGzT     7     0.418     1       6\n",
       "7     Cardi B  1LmN9SSHISbtp9LoaR5ZVJ     4     0.523     1       7\n",
       "8     Cardi B  6OEHjJJvdkk1Ln0p0AZdyz     0     0.377     1       8\n",
       "9     Cardi B  6AvfZXpbb6r35DfF7gHPRq     8     0.452     1       9"
      ]
     },
     "execution_count": 90,
     "metadata": {},
     "output_type": "execute_result"
    }
   ],
   "source": [
    "cardi['Tracks']=np.arange(0,10)\n",
    "cardi"
   ]
  },
  {
   "cell_type": "code",
   "execution_count": 91,
   "metadata": {},
   "outputs": [
    {
     "data": {
      "text/plain": [
       "<matplotlib.axes._subplots.AxesSubplot at 0x117c95a20>"
      ]
     },
     "execution_count": 91,
     "metadata": {},
     "output_type": "execute_result"
    },
    {
     "data": {
      "image/png": "[encoded data removed]",
      "text/plain": [
       "<Figure size 432x288 with 1 Axes>"
      ]
     },
     "metadata": {
      "needs_background": "light"
     },
     "output_type": "display_data"
    }
   ],
   "source": [
    "np.arange(0,10)\n",
    "cardi.plot.scatter(x='Tracks',y='valences')\n"
   ]
  },
  {
   "cell_type": "code",
   "execution_count": 92,
   "metadata": {},
   "outputs": [
    {
     "data": {
      "text/plain": [
       "<matplotlib.axes._subplots.AxesSubplot at 0x117b92240>"
      ]
     },
     "execution_count": 92,
     "metadata": {},
     "output_type": "execute_result"
    },
    {
     "data": {
      "image/png": "[encoded data removed]",
      "text/plain": [
       "<Figure size 432x288 with 1 Axes>"
      ]
     },
     "metadata": {
      "needs_background": "light"
     },
     "output_type": "display_data"
    }
   ],
   "source": [
    "cardi.plot.scatter(x='Tracks',y='Mode')"
   ]
  },
  {
   "cell_type": "code",
   "execution_count": 93,
   "metadata": {},
   "outputs": [
    {
     "data": {
      "text/plain": [
       "<matplotlib.axes._subplots.AxesSubplot at 0x117bb8dd8>"
      ]
     },
     "execution_count": 93,
     "metadata": {},
     "output_type": "execute_result"
    },
    {
     "data": {
      "image/png": "[encoded data removed]",
      "text/plain": [
       "<Figure size 432x288 with 1 Axes>"
      ]
     },
     "metadata": {
      "needs_background": "light"
     },
     "output_type": "display_data"
    }
   ],
   "source": [
    "cardi.plot.scatter(x='Tracks',y='keys')"
   ]
  },
  {
   "cell_type": "code",
   "execution_count": 94,
   "metadata": {},
   "outputs": [
    {
     "data": {
      "text/plain": [
       "<matplotlib.axes._subplots.AxesSubplot at 0x114e3c518>"
      ]
     },
     "execution_count": 94,
     "metadata": {},
     "output_type": "execute_result"
    },
    {
     "data": {
      "image/png": "[encoded data removed]",
      "text/plain": [
       "<Figure size 432x288 with 1 Axes>"
      ]
     },
     "metadata": {
      "needs_background": "light"
     },
     "output_type": "display_data"
    }
   ],
   "source": [
    "mydf['Track']=np.arange(0,299)\n",
    "mydf.plot.scatter(x='Track',y='valences')"
   ]
  },
  {
   "cell_type": "code",
   "execution_count": 95,
   "metadata": {},
   "outputs": [
    {
     "data": {
      "text/plain": [
       "<matplotlib.axes._subplots.AxesSubplot at 0x1150718d0>"
      ]
     },
     "execution_count": 95,
     "metadata": {},
     "output_type": "execute_result"
    },
    {
     "data": {
      "image/png": "[encoded data removed]",
      "text/plain": [
       "<Figure size 432x288 with 1 Axes>"
      ]
     },
     "metadata": {
      "needs_background": "light"
     },
     "output_type": "display_data"
    }
   ],
   "source": [
    "mydf.plot.scatter(x='Track',y='Mode')"
   ]
  },
  {
   "cell_type": "code",
   "execution_count": 96,
   "metadata": {},
   "outputs": [
    {
     "data": {
      "text/plain": [
       "<matplotlib.axes._subplots.AxesSubplot at 0x117a6f9e8>"
      ]
     },
     "execution_count": 96,
     "metadata": {},
     "output_type": "execute_result"
    },
    {
     "data": {
      "image/png": "[encoded data removed]",
      "text/plain": [
       "<Figure size 432x288 with 1 Axes>"
      ]
     },
     "metadata": {
      "needs_background": "light"
     },
     "output_type": "display_data"
    }
   ],
   "source": [
    "mydf.plot.scatter(x='Track',y='keys')"
   ]
  },
  {
   "cell_type": "code",
   "execution_count": null,
   "metadata": {},
   "outputs": [],
   "source": []
  },
  {
   "cell_type": "code",
   "execution_count": null,
   "metadata": {},
   "outputs": [],
   "source": []
  }
 ],
 "metadata": {
  "kernelspec": {
   "display_name": "Python 3",
   "language": "python",
   "name": "python3"
  },
  "language_info": {
   "codemirror_mode": {
    "name": "ipython",
    "version": 3
   },
   "file_extension": ".py",
   "mimetype": "text/x-python",
   "name": "python",
   "nbconvert_exporter": "python",
   "pygments_lexer": "ipython3",
   "version": "3.6.6"
  }
 },
 "nbformat": 4,
 "nbformat_minor": 2
}
